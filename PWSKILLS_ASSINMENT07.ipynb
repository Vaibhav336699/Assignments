{
 "cells": [
  {
   "cell_type": "markdown",
   "id": "6bda7a35",
   "metadata": {},
   "source": [
    "Q1) What is Abstraction in OOps? Explain with an example."
   ]
  },
  {
   "cell_type": "code",
   "execution_count": 1,
   "id": "8dcf691e",
   "metadata": {},
   "outputs": [],
   "source": [
    "# Abstraction is a fundamental principle in object-oriented programming (OOP) that involves hiding the complex implementation details of an object and exposing only the essential features to the outside world. It focuses on what an object does rather than how it achieves its functionality. \n",
    "# Abstraction allows programmers to create generalized and simplified models that can be used as building blocks for more complex systems.\n",
    "\n",
    "from abc import ABC, abstractmethod\n",
    "class demo(ABC):\n",
    "   @abstractmethod\n",
    "   def method1(self):\n",
    "      print (\"abstract method\")\n",
    "      return\n",
    "   def method2(self):\n",
    "      print (\"concrete method\")"
   ]
  },
  {
   "cell_type": "markdown",
   "id": "5dc9d00d",
   "metadata": {},
   "source": [
    "Q2) Differentiate between Abstraction and Encapsulation. Explain with an example."
   ]
  },
  {
   "cell_type": "code",
   "execution_count": 2,
   "id": "7a144f52",
   "metadata": {},
   "outputs": [
    {
     "data": {
      "text/plain": [
       "'\\nAbstraction:\\n\\nAbstraction is about hiding the complex implementation details of an object and exposing only the essential features to the outside world.\\nIt focuses on \"what\" an object does rather than \"how\" it achieves its functionality.\\nAbstraction is achieved through abstract classes and interfaces, defining a clear and concise interface for interacting with objects.\\nEncapsulation:\\n\\nEncapsulation is about bundling the data (attributes) and methods (functions) that operate on the data into a single unit or class.\\nIt restricts access to the internal state of an object and only allows interactions through well-defined interfaces.\\nEncapsulation helps in achieving data hiding, where the internal details of an object\\'s implementation are hidden from the outside world.\\n\\n\\n\\n'"
      ]
     },
     "execution_count": 2,
     "metadata": {},
     "output_type": "execute_result"
    }
   ],
   "source": [
    "\"\"\"\n",
    "Abstraction:\n",
    "\n",
    "Abstraction is about hiding the complex implementation details of an object and exposing only the essential features to the outside world.\n",
    "It focuses on \"what\" an object does rather than \"how\" it achieves its functionality.\n",
    "Abstraction is achieved through abstract classes and interfaces, defining a clear and concise interface for interacting with objects.\n",
    "Encapsulation:\n",
    "\n",
    "Encapsulation is about bundling the data (attributes) and methods (functions) that operate on the data into a single unit or class.\n",
    "It restricts access to the internal state of an object and only allows interactions through well-defined interfaces.\n",
    "Encapsulation helps in achieving data hiding, where the internal details of an object's implementation are hidden from the outside world.\n",
    "\n",
    "\n",
    "\n",
    "\"\"\""
   ]
  },
  {
   "cell_type": "markdown",
   "id": "90243866",
   "metadata": {},
   "source": [
    "Q3. What is abc module in python? Why is it used?"
   ]
  },
  {
   "cell_type": "code",
   "execution_count": 3,
   "id": "91583f60",
   "metadata": {},
   "outputs": [
    {
     "data": {
      "text/plain": [
       "'The abc module in Python stands for \"Abstract Base Classes.\" It provides a way to define abstract base classes and abstract methods, enforcing specific method signatures for subclasses. \\nAbstract base classes serve as templates for other classes, defining a common interface that subclasses must adhere to.'"
      ]
     },
     "execution_count": 3,
     "metadata": {},
     "output_type": "execute_result"
    }
   ],
   "source": [
    "\"\"\"The abc module in Python stands for \"Abstract Base Classes.\" It provides a way to define abstract base classes and abstract methods, enforcing specific method signatures for subclasses. \n",
    "Abstract base classes serve as templates for other classes, defining a common interface that subclasses must adhere to.\"\"\"\n",
    "\n",
    "# The abc module is used for several purposes:\n",
    "\n",
    "#1 Defining Abstract Base Classes (ABCs):\n",
    "\n",
    "#2 Enforcing Method Implementation\n",
    "\n",
    "#3 Type Checking and Documentation"
   ]
  },
  {
   "cell_type": "markdown",
   "id": "b9ac62c7",
   "metadata": {},
   "source": [
    "\n",
    "The abc module in Python stands for \"Abstract Base Classes.\" It provides a way to define abstract base classes and abstract methods, enforcing specific method signatures for subclasses. Abstract base classes serve as templates for other classes, defining a common interface that subclasses must adhere to.\n",
    "\n",
    "The abc module is used for several purposes:\n",
    "\n",
    "Defining Abstract Base Classes (ABCs): You can use the ABC class from the abc module to create abstract base classes. These classes cannot be instantiated directly but serve as a blueprint for other classes.\n",
    "Enforcing Method Implementation: Abstract base classes can define abstract methods using the @abstractmethod decorator. Subclasses must implement these abstract methods, ensuring that certain methods are provided with specific signatures.\n",
    "Type Checking and Documentation: Abstract base classes can be used to perform type checking, ensuring that objects conform to a specific interface. They also serve as documentation, clearly specifying the expected behavior of subclasses.\n",
    "Here's a simple example demonstrating the usage of the abc module:\n",
    "\n",
    "python\n",
    "Copy code\n",
    "from abc import ABC, abstractmethod\n",
    "\n",
    "# Define an abstract base class\n",
    "class Shape(ABC):\n",
    "    @abstractmethod\n",
    "    def area(self):\n",
    "        pass\n",
    "\n",
    "    @abstractmethod\n",
    "    def perimeter(self):\n",
    "        pass\n",
    "\n",
    "# Concrete subclass implementing the Shape abstract base class\n",
    "class Rectangle(Shape):\n",
    "    def __init__(self, length, width):\n",
    "        self.length = length\n",
    "        self.width = width\n",
    "\n",
    "    def area(self):\n",
    "        return self.length * self.width\n",
    "\n",
    "    def perimeter(self):\n",
    "        return 2 * (self.length + self.width)\n",
    "\n",
    "# Concrete subclass implementing the Shape abstract base class\n",
    "class Circle(Shape):\n",
    "    def __init__(self, radius):\n",
    "        self.radius = radius\n",
    "\n",
    "    def area(self):\n",
    "        return 3.14 * self.radius ** 2\n",
    "\n",
    "    def perimeter(self):\n",
    "        return 2 * 3.14 * self.radius\n",
    "\n",
    "# Create instances of Rectangle and Circle\n",
    "rectangle = Rectangle(5, 4)\n",
    "circle = Circle(3)\n",
    "\n",
    "# Call methods on the objects\n",
    "print(\"Rectangle Area:\", rectangle.area())    # Output: Rectangle Area: 20\n",
    "print(\"Rectangle Perimeter:\", rectangle.perimeter())  # Output: Rectangle Perimeter: 18\n",
    "print(\"Circle Area:\", circle.area())          # Output: Circle Area: 28.26\n",
    "print(\"Circle Perimeter:\", circle.perimeter())      # Output: Circle Perimeter: 18.84\n",
    "In this example, Shape is an abstract base class with abstract methods area() and perimeter(). Concrete subclasses Rectangle and Circle inherit from Shape and provide their specific implementations for the abstract methods. This ensures that all shapes adhere to a common interface.\n",
    "\n"
   ]
  },
  {
   "cell_type": "markdown",
   "id": "58203ffb",
   "metadata": {},
   "source": [
    "\n",
    "The abc module in Python stands for \"Abstract Base Classes.\" It provides a way to define abstract base classes and abstract methods, enforcing specific method signatures for subclasses. Abstract base classes serve as templates for other classes, defining a common interface that subclasses must adhere to.\n",
    "\n",
    "The abc module is used for several purposes:\n",
    "\n",
    "Defining Abstract Base Classes (ABCs): You can use the ABC class from the abc module to create abstract base classes. These classes cannot be instantiated directly but serve as a blueprint for other classes.\n",
    "Enforcing Method Implementation: Abstract base classes can define abstract methods using the @abstractmethod decorator. Subclasses must implement these abstract methods, ensuring that certain methods are provided with specific signatures.\n",
    "Type Checking and Documentation: Abstract base classes can be used to perform type checking, ensuring that objects conform to a specific interface. They also serve as documentation, clearly specifying the expected behavior of subclasses.\n",
    "Here's a simple example demonstrating the usage of the abc module:\n",
    "\n",
    "python\n",
    "Copy code\n",
    "from abc import ABC, abstractmethod\n",
    "\n",
    "# Define an abstract base class\n",
    "class Shape(ABC):\n",
    "    @abstractmethod\n",
    "    def area(self):\n",
    "        pass\n",
    "\n",
    "    @abstractmethod\n",
    "    def perimeter(self):\n",
    "        pass\n",
    "\n",
    "# Concrete subclass implementing the Shape abstract base class\n",
    "class Rectangle(Shape):\n",
    "    def __init__(self, length, width):\n",
    "        self.length = length\n",
    "        self.width = width\n",
    "\n",
    "    def area(self):\n",
    "        return self.length * self.width\n",
    "\n",
    "    def perimeter(self):\n",
    "        return 2 * (self.length + self.width)\n",
    "\n",
    "# Concrete subclass implementing the Shape abstract base class\n",
    "class Circle(Shape):\n",
    "    def __init__(self, radius):\n",
    "        self.radius = radius\n",
    "\n",
    "    def area(self):\n",
    "        return 3.14 * self.radius ** 2\n",
    "\n",
    "    def perimeter(self):\n",
    "        return 2 * 3.14 * self.radius\n",
    "\n",
    "# Create instances of Rectangle and Circle\n",
    "rectangle = Rectangle(5, 4)\n",
    "circle = Circle(3)\n",
    "\n",
    "# Call methods on the objects\n",
    "print(\"Rectangle Area:\", rectangle.area())    # Output: Rectangle Area: 20\n",
    "print(\"Rectangle Perimeter:\", rectangle.perimeter())  # Output: Rectangle Perimeter: 18\n",
    "print(\"Circle Area:\", circle.area())          # Output: Circle Area: 28.26\n",
    "print(\"Circle Perimeter:\", circle.perimeter())      # Output: Circle Perimeter: 18.84\n",
    "In this example, Shape is an abstract base class with abstract methods area() and perimeter(). Concrete subclasses Rectangle and Circle inherit from Shape and provide their specific implementations for the abstract methods. This ensures that all shapes adhere to a common interface.\n",
    "\n",
    "User\n",
    "Q4. How can we achieve data abstraction?"
   ]
  },
  {
   "cell_type": "code",
   "execution_count": 5,
   "id": "6a427a10",
   "metadata": {},
   "outputs": [],
   "source": [
    "# Data abstraction in programming refers to the concept of hiding the complex implementation details of data\n",
    "\n",
    "#In Python, data abstraction can be achieved through various mechanisms, including:\n",
    "\n",
    "#1 Encapsulation\n",
    "#2 Abstract base classes\n",
    "#3 Data hiding and Access Control"
   ]
  },
  {
   "cell_type": "markdown",
   "id": "209db93d",
   "metadata": {},
   "source": [
    "Q5) Can we create an instance of an abstract class? Explain your answer."
   ]
  },
  {
   "cell_type": "code",
   "execution_count": 6,
   "id": "cdb0e9aa",
   "metadata": {},
   "outputs": [],
   "source": [
    "\n",
    "# No, we cannot create an instance of an abstract class directly in Python. Abstract classes serve as templates for other classes and define abstract methods that must be implemented by their subclasses. \n",
    "# Attempting to instantiate an abstract class directly would result in a TypeError."
   ]
  },
  {
   "cell_type": "code",
   "execution_count": null,
   "id": "c67a0cbd",
   "metadata": {},
   "outputs": [],
   "source": []
  }
 ],
 "metadata": {
  "kernelspec": {
   "display_name": "Python 3 (ipykernel)",
   "language": "python",
   "name": "python3"
  },
  "language_info": {
   "codemirror_mode": {
    "name": "ipython",
    "version": 3
   },
   "file_extension": ".py",
   "mimetype": "text/x-python",
   "name": "python",
   "nbconvert_exporter": "python",
   "pygments_lexer": "ipython3",
   "version": "3.9.7"
  }
 },
 "nbformat": 4,
 "nbformat_minor": 5
}
