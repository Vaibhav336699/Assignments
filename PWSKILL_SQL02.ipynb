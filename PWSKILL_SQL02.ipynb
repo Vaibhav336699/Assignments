{
 "cells": [
  {
   "cell_type": "markdown",
   "id": "fe9c24cd",
   "metadata": {},
   "source": [
    "Q1. What is MongoDB? Explain non-relational databases in short. In which scenarios it is preferred to use\n",
    "MongoDB over SQL databases?"
   ]
  },
  {
   "cell_type": "code",
   "execution_count": 1,
   "id": "0edbc91d",
   "metadata": {},
   "outputs": [],
   "source": [
    "#MONGODB\n",
    "# \n",
    "#MongoDB is a popular NoSQL database management system that is designed for scalability, flexibility, and high performance. It stores data in a flexible, JSON-like format known as BSON (Binary JSON), which allows for the storage of structured, semi-structured, and unstructured data\n",
    "\n",
    "\n",
    "# \n",
    "#Non-Relational Databases:\n",
    "#Non-relational databases, also known as NoSQL databases, are a type of database management system that does not adhere to the traditional relational database model based on tables with fixed schemas. Instead, they offer a more flexible data model that can accommodate various types of data structures, including key-value pairs, \n",
    "\n",
    "\n",
    "#In summary, MongoDB is preferred over SQL databases in scenarios where flexibility, scalability, high availability, performance, and developer productivity are crucial requirements for the application"
   ]
  },
  {
   "cell_type": "markdown",
   "id": "143ca587",
   "metadata": {},
   "source": [
    "Q2. State and Explain the features of MongoDB."
   ]
  },
  {
   "cell_type": "code",
   "execution_count": 2,
   "id": "79e139f1",
   "metadata": {},
   "outputs": [],
   "source": [
    "# MongoDB is a leading NoSQL database management system known for its flexibility, scalability, and performance. Below are some key features of MongoDB:\n",
    "\n",
    "# Document-Oriented Storage\n",
    "# Dynamic Schema\n",
    "# High Scalability\n",
    "# High Availability\n",
    "# Rich Query Language"
   ]
  },
  {
   "cell_type": "markdown",
   "id": "a840e1fd",
   "metadata": {},
   "source": [
    "Q3. Write a code to connect MongoDB to Python. Also, create a database and a collection in Mongodb"
   ]
  },
  {
   "cell_type": "code",
   "execution_count": null,
   "id": "71d15a0c",
   "metadata": {},
   "outputs": [],
   "source": [
    "# \n",
    "#To connect MongoDB to Python, you can use the pymongo library. First, ensure you have installed the library using pip:\n",
    "\n",
    "import pymongo\n",
    "\n",
    "# Connect to MongoDB server\n",
    "client = pymongo.MongoClient(\"mongodb://localhost:27017/\")\n",
    "\n",
    "# Create or get the database\n",
    "mydb = client[\"mydatabase\"]\n",
    "\n",
    "# Create or get the collection\n",
    "mycol = mydb[\"customers\"]\n",
    "\n",
    "# Insert a document into the collection\n",
    "mydict = { \"name\": \"John\", \"address\": \"Highway 37\" }\n",
    "x = mycol.insert_one(mydict)\n",
    "\n",
    "# Print the database and collection names\n",
    "print(client.list_database_names())\n",
    "print(mydb.list_collection_names())\n"
   ]
  },
  {
   "cell_type": "markdown",
   "id": "0f4c5ddb",
   "metadata": {},
   "source": [
    "\n",
    "Q4. Using the database and the collection created in question number 3, write a code to insert one record,\n",
    "and insert many records. Use the find() and find_one() methods to print the inserted record."
   ]
  },
  {
   "cell_type": "code",
   "execution_count": null,
   "id": "ade7cf3f",
   "metadata": {},
   "outputs": [],
   "source": [
    "import pymongo\n",
    "\n",
    "# Connect to MongoDB server\n",
    "client = pymongo.MongoClient(\"mongodb://localhost:27017/\")\n",
    "\n",
    "# Access the database and collection\n",
    "mydb = client[\"mydatabase\"]\n",
    "mycol = mydb[\"customers\"]\n",
    "\n",
    "# Insert one record\n",
    "record_one = { \"name\": \"Alice\", \"address\": \"123 Main St\" }\n",
    "insert_one_result = mycol.insert_one(record_one)\n",
    "print(\"Inserted record ID:\", insert_one_result.inserted_id)\n",
    "\n",
    "# Insert multiple records\n",
    "records_many = [\n",
    "    { \"name\": \"Bob\", \"address\": \"456 Elm St\" },\n",
    "    { \"name\": \"Charlie\", \"address\": \"789 Oak St\" },\n",
    "    { \"name\": \"David\", \"address\": \"987 Pine St\" }\n",
    "]\n",
    "insert_many_result = mycol.insert_many(records_many)\n",
    "print(\"Inserted record IDs:\", insert_many_result.inserted_ids)\n",
    "\n",
    "# Print the inserted record using find_one()\n",
    "print(\"\\nOne inserted record:\")\n",
    "print(mycol.find_one({}))\n",
    "\n",
    "# Print all inserted records using find()\n",
    "print(\"\\nAll inserted records:\")\n",
    "for record in mycol.find():\n",
    "    print(record)\n"
   ]
  },
  {
   "cell_type": "markdown",
   "id": "95ad4d24",
   "metadata": {},
   "source": [
    "Q5. Explain how you can use the find() method to query the MongoDB database. Write a simple code to\n",
    "demonstrate this."
   ]
  },
  {
   "cell_type": "code",
   "execution_count": null,
   "id": "a34cc06f",
   "metadata": {},
   "outputs": [],
   "source": [
    "# The find() method in MongoDB is used to query documents from a collection based on specified criteria. It returns a cursor object that can be iterated to access the matching documents.\n",
    "\n",
    "# Query documents where the \"name\" field is \"Alice\"\n",
    "cursor = mycol.find({ \"name\": \"Alice\" })\n",
    "\n",
    "# Iterate over the cursor to access matching documents\n",
    "for document in cursor:\n",
    "    print(document)\n"
   ]
  },
  {
   "cell_type": "markdown",
   "id": "e062e910",
   "metadata": {},
   "source": [
    "Q6) Explain the sort() method. Give an example to demonstrate sorting in MongoDB."
   ]
  },
  {
   "cell_type": "code",
   "execution_count": null,
   "id": "ab45b684",
   "metadata": {},
   "outputs": [],
   "source": [
    "# In MongoDB, the sort() method is used to sort the documents returned by a query based on one or more fields. It allows you to specify the sorting order (ascending or descending) for each field.\n",
    "\n",
    "import pymongo\n",
    "\n",
    "# Connect to MongoDB server\n",
    "client = pymongo.MongoClient(\"mongodb://localhost:27017/\")\n",
    "\n",
    "# Access the database and collection\n",
    "mydb = client[\"mydatabase\"]\n",
    "mycol = mydb[\"students\"]\n",
    "\n",
    "# Query documents and sort by \"score\" field in descending order\n",
    "cursor = mycol.find().sort(\"score\", -1)\n",
    "\n",
    "# Iterate over the cursor to access sorted documents\n",
    "for document in cursor:\n",
    "    print(document)\n"
   ]
  },
  {
   "cell_type": "markdown",
   "id": "0b22c5ba",
   "metadata": {},
   "source": [
    "Q7. Explain why delete_one(), delete_many(), and drop() is used."
   ]
  },
  {
   "cell_type": "code",
   "execution_count": null,
   "id": "861a56b3",
   "metadata": {},
   "outputs": [],
   "source": [
    "# \n",
    "# delete_one(): This method is used to delete a single document that matches the specified criteria from a collection in a MongoDB database.\n",
    "    \n",
    "# delete_many(): Similar to delete_one(), delete_many() is used to delete multiple documents that match certain criteria from a collection. This method is handy when you need to remove multiple records at once\n",
    "\n",
    "# drop(): Unlike delete_one() and delete_many(), which remove documents from a collection, the drop() method is used to completely remove an entire collection from the database. It's a way to delete an entire set of documents at once, effectively dropping the collection from the database.\n",
    "\n",
    "    "
   ]
  },
  {
   "cell_type": "code",
   "execution_count": null,
   "id": "11e5861c",
   "metadata": {},
   "outputs": [],
   "source": []
  }
 ],
 "metadata": {
  "kernelspec": {
   "display_name": "Python 3 (ipykernel)",
   "language": "python",
   "name": "python3"
  },
  "language_info": {
   "codemirror_mode": {
    "name": "ipython",
    "version": 3
   },
   "file_extension": ".py",
   "mimetype": "text/x-python",
   "name": "python",
   "nbconvert_exporter": "python",
   "pygments_lexer": "ipython3",
   "version": "3.9.7"
  }
 },
 "nbformat": 4,
 "nbformat_minor": 5
}
