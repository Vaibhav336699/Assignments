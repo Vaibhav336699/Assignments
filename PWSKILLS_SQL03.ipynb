{
 "cells": [
  {
   "cell_type": "markdown",
   "id": "ccb54d2f",
   "metadata": {},
   "source": [
    "Q1. What is an API? Give an example, where an API is used in real life."
   ]
  },
  {
   "cell_type": "code",
   "execution_count": null,
   "id": "7b934319",
   "metadata": {},
   "outputs": [],
   "source": [
    "# An API, or Application Programming Interface, is a set of rules and protocols that allows different software applications to communicate with each other. \n",
    "#It defines the methods and data formats that applications can use to request and exchange information. Essentially, an API acts as an intermediary that enables interactions between different software systems.\n",
    "\n",
    "# Here's a simplified example: imagine you're at a restaurant and you want to order food. \n",
    "# You, the \"client\" (in this case, the customer), interact with the waiter, who acts as the \"API\" for communicating your order to the kitchen, which is the \"server\". You don't need to know how the kitchen prepares the food or what ingredients they use; you just need to communicate your order to the waiter using a menu (the API), and the waiter takes care of the rest.\n",
    "\n"
   ]
  },
  {
   "cell_type": "markdown",
   "id": "0562daf8",
   "metadata": {},
   "source": [
    "Q2. Give advantages and disadvantages of using API."
   ]
  },
  {
   "cell_type": "code",
   "execution_count": 1,
   "id": "abe09cd2",
   "metadata": {},
   "outputs": [],
   "source": [
    "#Advantages:\n",
    "   # Interoperability \n",
    "   # Reuse and Modularity\n",
    "   # Rapid Development\n",
    "   # Scalability\n",
    "\n",
    "#Disadvantages:\n",
    "   # Dependency and Reliability\n",
    "   # Security Risks\n",
    "   # Performance Overhead\n",
    "   # Limited Control "
   ]
  },
  {
   "cell_type": "markdown",
   "id": "68d0d413",
   "metadata": {},
   "source": [
    "Q3. What is a Web API? Differentiate between API and Web API."
   ]
  },
  {
   "cell_type": "code",
   "execution_count": 2,
   "id": "671f7d21",
   "metadata": {},
   "outputs": [],
   "source": [
    "# API (Application Programming Interface):\n",
    "\n",
    "# An API (Application Programming Interface) is a set of rules, protocols, and tools that allows different software applications to communicate with each other.\n",
    "# APIs can be used for various purposes, including accessing databases, operating systems, hardware devices, or external services.\n",
    "\n",
    "# Web API (Web Application Programming Interface):\n",
    "\n",
    "# A Web API is a type of API that is accessed over the web using standard web protocols such as HTTP.\n",
    "# Web APIs are typically designed to be platform-independent and accessible from any device or programming language that can make HTTP requests.\n"
   ]
  },
  {
   "cell_type": "markdown",
   "id": "06dea4bc",
   "metadata": {},
   "source": [
    "Q4. Explain REST and SOAP Architecture. Mention shortcomings of SOAP."
   ]
  },
  {
   "cell_type": "code",
   "execution_count": 3,
   "id": "04a182cf",
   "metadata": {},
   "outputs": [],
   "source": [
    "# REST (Representational State Transfer) and SOAP (Simple Object Access Protocol) are two architectural styles used for designing web services\n",
    "\n",
    "# REST Architecture:\n",
    "\n",
    "# REST is an architectural style for designing networked applications, particularly web services, that relies on a stateless, client-server communication protocol, typically HTTP.\n",
    "\n",
    "\n",
    "# Shortcomings of SOAP:\n",
    "# Complexity\n",
    "# Performance Overhead\n",
    "# Limited Browser Support\n",
    "# Tight Coupling\n",
    "# Less Caching\n",
    "\n",
    "\n"
   ]
  },
  {
   "cell_type": "markdown",
   "id": "07d9f3a1",
   "metadata": {},
   "source": [
    "Q5. Differentiate between REST and SOAP."
   ]
  },
  {
   "cell_type": "code",
   "execution_count": null,
   "id": "7e9fd313",
   "metadata": {},
   "outputs": [],
   "source": [
    "# Complexity: REST is generally simpler and more lightweight compared to SOAP, making it easier to develop, maintain, and scale. SOAP, on the other hand, can be more complex due to its XML-based format and extensive standards.\n",
    "\n",
    "# Performance: RESTful services typically have better performance and lower overhead compared to SOAP services, especially when using lightweight data formats like JSON. \n",
    "# SOAP messages can be slower and consume more bandwidth due to their verbose nature."
   ]
  },
  {
   "cell_type": "code",
   "execution_count": null,
   "id": "c2219f59",
   "metadata": {},
   "outputs": [],
   "source": []
  }
 ],
 "metadata": {
  "kernelspec": {
   "display_name": "Python 3 (ipykernel)",
   "language": "python",
   "name": "python3"
  },
  "language_info": {
   "codemirror_mode": {
    "name": "ipython",
    "version": 3
   },
   "file_extension": ".py",
   "mimetype": "text/x-python",
   "name": "python",
   "nbconvert_exporter": "python",
   "pygments_lexer": "ipython3",
   "version": "3.9.7"
  }
 },
 "nbformat": 4,
 "nbformat_minor": 5
}
