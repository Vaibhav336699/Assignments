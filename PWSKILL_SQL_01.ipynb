{
 "cells": [
  {
   "cell_type": "markdown",
   "id": "6d6b34b2",
   "metadata": {},
   "source": [
    "Q1) What is a database? Differentiate between SQL and NoSQL databases."
   ]
  },
  {
   "cell_type": "code",
   "execution_count": 1,
   "id": "a1bf5481",
   "metadata": {},
   "outputs": [],
   "source": [
    "#\n",
    "#A database is a structured collection of data that is organized and stored in a computer system. \n",
    "#It allows users to efficiently store, retrieve, update, and manage data according to their requirements. Databases are commonly used in various applications and industries to store and manage large volumes of structured or unstructured DATA_SCIENCE_PWSKILL/\n",
    "\n",
    "#SQL (Relational) Databases:\n",
    "# SQL databases are based on the relational model and use Structured Query Language (SQL) for defining and manipulating data.\n",
    "# Data in SQL databases is structured and organized into tables with predefined schemas, where each row represents a record and each column represents an attribute.\n",
    "\n",
    "\n",
    "# NoSQL (Non-Relational) Databases:\n",
    "# NoSQL databases are designed for handling large volumes of unstructured or semi-structured data and offer flexibility in data modeling.\n",
    "# NoSQL databases use various data models such as document-based, key-value, column-family, or graph-based models, depending on the specific requirements of the application.\n"
   ]
  },
  {
   "cell_type": "markdown",
   "id": "e53d6c0c",
   "metadata": {},
   "source": [
    "Q2) What is DDL? Explain why CREATE, DROP, ALTER, and TRUNCATE are used with an example."
   ]
  },
  {
   "cell_type": "code",
   "execution_count": 2,
   "id": "5c9a61c9",
   "metadata": {},
   "outputs": [
    {
     "ename": "SyntaxError",
     "evalue": "invalid syntax (Temp/ipykernel_5188/4091867753.py, line 6)",
     "output_type": "error",
     "traceback": [
      "\u001b[1;36m  File \u001b[1;32m\"C:\\Users\\vebhao\\AppData\\Local\\Temp/ipykernel_5188/4091867753.py\"\u001b[1;36m, line \u001b[1;32m6\u001b[0m\n\u001b[1;33m    CREATE TABLE employees (\u001b[0m\n\u001b[1;37m           ^\u001b[0m\n\u001b[1;31mSyntaxError\u001b[0m\u001b[1;31m:\u001b[0m invalid syntax\n"
     ]
    }
   ],
   "source": [
    "# DDL stands for Data Definition Language, which is a subset of SQL (Structured Query Language) used for defining and modifying the structure of database objects\n",
    "# DDL statements allow users to create, modify, and delete database objects, as well as define constraints and permissions.\n",
    "\n",
    "# CREATE:\n",
    "#The CREATE statement is used to create new database objects such as tables, indexes, views, or schemas.\n",
    "CREATE TABLE employees (\n",
    "    id INT PRIMARY KEY,\n",
    "    name VARCHAR(100),\n",
    "    age INT,\n",
    "    department VARCHAR(50)\n",
    ");\n",
    "\n",
    "\n",
    "# DROP:\n",
    "# The DROP statement is used to delete existing database objects such as tables, indexes, views, or schemas.\n",
    "\n",
    "DROP TABLE employees;\n",
    "\n",
    "\n",
    "# \n",
    "# ALTER:\n",
    "# The ALTER statement is used to modify the structure of existing database objects, such as adding, modifying, or dropping columns in a table.\n",
    "\n",
    "# TRUNCATE:\n",
    "# The TRUNCATE statement is used to delete all rows from a table while preserving the table structure.\n",
    "# Unlike DROP, TRUNCATE does not delete the table itself; it only removes all rows from the table.\n",
    "\n",
    "TRUNCATE TABLE employees;\n"
   ]
  },
  {
   "cell_type": "markdown",
   "id": "ce4fb83c",
   "metadata": {},
   "source": [
    "Q3. What is DML? Explain INSERT, UPDATE, and DELETE with an example."
   ]
  },
  {
   "cell_type": "code",
   "execution_count": null,
   "id": "d812b038",
   "metadata": {},
   "outputs": [],
   "source": [
    "# DML stands for Data Manipulation Language, which is a subset of SQL (Structured Query Language) used for manipulating data within database objects such as tables. \n",
    "# DML statements allow users to insert, update, delete, and query data stored in the database tables.\n",
    "\n",
    "# INSERT:\n",
    "#The INSERT statement is used to add new rows of data into a table.\n",
    "\n",
    "INSERT INTO employees (id, name, age, department)\n",
    "VALUES (1, 'John Doe', 30, 'Sales');\n",
    "#UPDATE:\n",
    "# The UPDATE statement is used to modify existing data in a table.\n",
    "\n",
    "UPDATE employees\n",
    "SET age = 35, department = 'Marketing'\n",
    "WHERE id = 1;\n",
    "\n",
    "#DELETE:\n",
    "#The DELETE statement is used to remove one or more rows from a table\n",
    "DELETE FROM employees\n",
    "WHERE id = 1;\n",
    "\n",
    "\n",
    "\n",
    "\n",
    "\n"
   ]
  },
  {
   "cell_type": "markdown",
   "id": "7163e5ec",
   "metadata": {},
   "source": [
    " Q4. What is DQL? Explain SELECT with an example."
   ]
  },
  {
   "cell_type": "code",
   "execution_count": null,
   "id": "2a93653a",
   "metadata": {},
   "outputs": [],
   "source": [
    "# \n",
    "#DQL stands for Data Query Language, which is a subset of SQL (Structured Query Language) used for retrieving data from database tables. \n",
    "#DQL consists primarily of the SELECT statement, which allows users to query and retrieve specific data from one or more tables based on specified criteria.\n",
    "\n",
    "SELECT id, name, age, department\n",
    "FROM employees\n",
    "WHERE department = 'Sales';\n",
    "\n",
    "\n"
   ]
  },
  {
   "cell_type": "markdown",
   "id": "1fd64251",
   "metadata": {},
   "source": [
    "Q5. Explain Primary Key and Foreign Key."
   ]
  },
  {
   "cell_type": "code",
   "execution_count": 3,
   "id": "317c4081",
   "metadata": {},
   "outputs": [],
   "source": [
    "# Primary Key:\n",
    "\n",
    "#A primary key is a column or a set of columns in a table that uniquely identifies each row in the table.\n",
    "#It must contain unique values for each row and cannot contain null values.\n",
    "#A table can have only one primary key.\n",
    "\n",
    "# Foreign Key:\n",
    "\n",
    "# A foreign key is a column or a set of columns in a table that establishes a link between data in two tables.\n",
    "# It represents a relationship between two tables by referencing the primary key of another table.\n",
    "# A foreign key constraint ensures that values in the foreign key column(s) of one table match values in the primary key column(s) of another table or are null.\n",
    "\n"
   ]
  },
  {
   "cell_type": "markdown",
   "id": "2c5ef94c",
   "metadata": {},
   "source": [
    "Q6) Write a python code to connect MySQL to python. Explain the cursor() and execute() method."
   ]
  },
  {
   "cell_type": "code",
   "execution_count": null,
   "id": "1f873f98",
   "metadata": {},
   "outputs": [],
   "source": [
    "# \n",
    "#To connect MySQL to Python, you can use the mysql.connector library. First, make sure you have installed the library using pip:\n",
    " \n",
    "# The cursor() method creates a new cursor object associated with the connection, allowing you to execute SQL queries. The execute() method of the cursor object is used to execute SQL queries and statements. It takes the SQL query as a parameter and executes it on the connected MySQL database.\n",
    "\n",
    "import mysql.connector\n",
    "\n",
    "# Establish a connection to the MySQL database\n",
    "connection = mysql.connector.connect(\n",
    "    host=\"localhost\",\n",
    "    user=\"your_username\",\n",
    "    password=\"your_password\",\n",
    "    database=\"your_database\"\n",
    ")\n",
    "\n",
    "# Create a cursor object using the cursor() method\n",
    "cursor = connection.cursor()\n",
    "\n",
    "# Define a SQL query\n",
    "query = \"SELECT * FROM your_table\"\n",
    "\n",
    "# Execute the query using the execute() method of the cursor object\n",
    "cursor.execute(query)\n",
    "\n",
    "# Fetch the results using fetchall() method\n",
    "results = cursor.fetchall()\n",
    "\n",
    "# Print the results\n",
    "for row in results:\n",
    "    print(row)\n",
    "\n",
    "# Close the cursor and connection\n",
    "cursor.close()\n",
    "connection.close()\n",
    "\n",
    "\n",
    "    "
   ]
  },
  {
   "cell_type": "markdown",
   "id": "df92386b",
   "metadata": {},
   "source": [
    "Q7. Give the order of execution of SQL clauses in an SQL query."
   ]
  },
  {
   "cell_type": "code",
   "execution_count": null,
   "id": "3d334818",
   "metadata": {},
   "outputs": [],
   "source": [
    " FROM, JOIN, WHERE, GROUP BY, HAVING, SELECT, DISTINCT, ORDER BY, and finally, LIMIT/OFFSET"
   ]
  },
  {
   "cell_type": "code",
   "execution_count": null,
   "id": "d5292c5b",
   "metadata": {},
   "outputs": [],
   "source": []
  }
 ],
 "metadata": {
  "kernelspec": {
   "display_name": "Python 3 (ipykernel)",
   "language": "python",
   "name": "python3"
  },
  "language_info": {
   "codemirror_mode": {
    "name": "ipython",
    "version": 3
   },
   "file_extension": ".py",
   "mimetype": "text/x-python",
   "name": "python",
   "nbconvert_exporter": "python",
   "pygments_lexer": "ipython3",
   "version": "3.9.7"
  }
 },
 "nbformat": 4,
 "nbformat_minor": 5
}
