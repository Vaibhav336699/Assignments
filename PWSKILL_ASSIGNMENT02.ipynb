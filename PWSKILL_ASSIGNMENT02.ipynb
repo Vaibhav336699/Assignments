{
 "cells": [
  {
   "cell_type": "markdown",
   "id": "0a373d8e",
   "metadata": {},
   "source": [
    "Q1. How do you comment code in Python? What are the different types of comments?"
   ]
  },
  {
   "cell_type": "code",
   "execution_count": 3,
   "id": "4446d24b",
   "metadata": {},
   "outputs": [
    {
     "data": {
      "text/plain": [
       "'\\nThis is a multi-line comment \\nheello hii etc'"
      ]
     },
     "execution_count": 3,
     "metadata": {},
     "output_type": "execute_result"
    }
   ],
   "source": [
    "#In Python, you can add comments to your code to provide explanations, documentations, or reminders. \n",
    "# comments mainly used in python for to understand particular user what the aim of a program\n",
    "\n",
    "# Python supports two main types of comments:\n",
    "\n",
    "# 1) Single-line Comments:\n",
    "#Single-line comments start with the hash character #.\n",
    "\n",
    "# This is a single-line comment\n",
    "#print(\"Hello, world!\")  # This is also a single-line comment\n",
    "\n",
    "# 2) Multi-line Comments (Docstrings):\n",
    "#Multi-line comments, also known as docstrings, are used for longer comments or documentation strings.\n",
    "#They are enclosed within triple quotes \"\"\" or '''.\n",
    "\n",
    "\"\"\"\n",
    "This is a multi-line comment \n",
    "heello hii etc\"\"\"\n",
    "\n",
    "\n"
   ]
  },
  {
   "cell_type": "markdown",
   "id": "8b2a270c",
   "metadata": {},
   "source": [
    "q2)what are variables in Python? How do you declare and assign values to variables?"
   ]
  },
  {
   "cell_type": "code",
   "execution_count": 7,
   "id": "ffa415f5",
   "metadata": {},
   "outputs": [],
   "source": [
    "\n",
    "# In Python, variables are used to store data values.\n",
    "#When you assign a value to a variable, Python automatically creates the variable and assigns the value to it.\n",
    "\n",
    "x = 5  # x is assigned the value 5\n",
    "name = \"Alice\"  # name is assigned the string value \"Alice\"\n",
    "is_true = True  # is_true is assigned the boolean value True\n"
   ]
  },
  {
   "cell_type": "markdown",
   "id": "e0028244",
   "metadata": {},
   "source": [
    "Q3. How do you convert one data type to another in Python?"
   ]
  },
  {
   "cell_type": "code",
   "execution_count": 8,
   "id": "da603c6a",
   "metadata": {},
   "outputs": [
    {
     "name": "stdout",
     "output_type": "stream",
     "text": [
      "5.0\n",
      "7.5\n",
      "123\n"
     ]
    }
   ],
   "source": [
    "#In Python, you can convert one data type to another using various built-in functions. Here are some common methods:\n",
    "\n",
    "#Explicit Type Conversion (Type Casting):\n",
    "#This involves using built-in functions like int(), float(), str(), list(), tuple(), dict(), etc., to convert one data type to another.\n",
    "\n",
    "x = 5\n",
    "y = float(x)  # Convert integer to float\n",
    "print(y)\n",
    "\n",
    "#Implicit Type Conversion:\n",
    "#Also known as coercion, Python automatically converts one data type to another when required.\n",
    "a = 5\n",
    "b = 2.5\n",
    "c = a + b  # Here, 'a' is implicitly converted to float before addition\n",
    "print(c)\n",
    "\n",
    "# Using the str() Function:\n",
    "# The str() function converts any data type to a string\n",
    "\n",
    "num = 123\n",
    "str_num = str(num)  # Convert integer to string\n",
    "print(str_num)\n"
   ]
  },
  {
   "cell_type": "markdown",
   "id": "559f0563",
   "metadata": {},
   "source": [
    "Q4. How do you write and execute a Python script from the command line?"
   ]
  },
  {
   "cell_type": "code",
   "execution_count": 9,
   "id": "3ac9b84f",
   "metadata": {},
   "outputs": [],
   "source": [
    "#\n",
    "#Write Your Python Script:\n",
    "#Open a text editor and write your Python script. Save the script with a .py extension. For example, you can create a file named my_script.py.\n",
    "\n",
    "#Open Command Prompt or Terminal:\n",
    "#Open the command prompt (Windows) or terminal (macOS/Linux). You can usually find these in your system's applications or by searching for \"Command Prompt\" or \"Terminal\" in the start menu or spotlight search.\n",
    "\n",
    "#Navigate to the Directory Containing Your Script:\n",
    "#Use the cd command to navigate to the directory containing your Python"
   ]
  },
  {
   "cell_type": "markdown",
   "id": "ce362caf",
   "metadata": {},
   "source": [
    "Q5) list my_list = [1, 2, 3, 4, 5], write the code to slice the list and obtain the sub-list [2, 3]."
   ]
  },
  {
   "cell_type": "code",
   "execution_count": 10,
   "id": "d43495af",
   "metadata": {},
   "outputs": [
    {
     "name": "stdout",
     "output_type": "stream",
     "text": [
      "[2, 3]\n"
     ]
    }
   ],
   "source": [
    "my_list = [1, 2, 3, 4, 5]\n",
    "sub_list = my_list[1:3]\n",
    "print(sub_list)\n"
   ]
  },
  {
   "cell_type": "markdown",
   "id": "74919964",
   "metadata": {},
   "source": [
    "Q6. What is a complex number in mathematics, and how is it represented in Python?"
   ]
  },
  {
   "cell_type": "code",
   "execution_count": 2,
   "id": "ea4578f7",
   "metadata": {},
   "outputs": [
    {
     "name": "stdout",
     "output_type": "stream",
     "text": [
      "(3+2j)\n"
     ]
    }
   ],
   "source": [
    "# complex number is a combination of real and imaginary part\n",
    "\n",
    "# Creating a complex number\n",
    "z = 3 + 2j\n",
    "\n",
    "# Printing the complex number\n",
    "print(z)  # Output: (3+2j)\n",
    "\n",
    "# here 3 and 2 are real numbers and j denote imaginary part\n",
    "\n",
    "\n",
    "\n"
   ]
  },
  {
   "cell_type": "markdown",
   "id": "03474071",
   "metadata": {},
   "source": [
    "Q7) what is the correct way to declare a variable named age and assign the value 25 to it?"
   ]
  },
  {
   "cell_type": "code",
   "execution_count": 3,
   "id": "39e7289d",
   "metadata": {},
   "outputs": [],
   "source": [
    "age = 25\n",
    "# here int valuue 25 assigned to age variable"
   ]
  },
  {
   "cell_type": "markdown",
   "id": "f3b1defb",
   "metadata": {},
   "source": [
    "Q8. Declare a variable named price and assign the value 9.99 to it. What data type does this variable\n",
    "belong to?"
   ]
  },
  {
   "cell_type": "code",
   "execution_count": 5,
   "id": "549c3540",
   "metadata": {},
   "outputs": [
    {
     "name": "stdout",
     "output_type": "stream",
     "text": [
      "9.99\n",
      "<class 'float'>\n"
     ]
    }
   ],
   "source": [
    "price = 9.99\n",
    "print(price)\n",
    "print(type(price))\n",
    "\n",
    "#This line of code declares a variable named price and assigns the floating-point value 9.99 to it. In Python, this variable belongs to the data type float, which represents floating-point numbers.\n"
   ]
  },
  {
   "cell_type": "markdown",
   "id": "46c021d0",
   "metadata": {},
   "source": [
    "Q9. Create a variable named name and assign your full name to it as a string. How would you print the\n",
    "value of this variable?"
   ]
  },
  {
   "cell_type": "code",
   "execution_count": 7,
   "id": "de0ccb51",
   "metadata": {},
   "outputs": [
    {
     "name": "stdout",
     "output_type": "stream",
     "text": [
      "VAIBHAV YUVRAJ NANDAGAWALI\n",
      "<class 'str'>\n"
     ]
    }
   ],
   "source": [
    "name= \"VAIBHAV YUVRAJ NANDAGAWALI\"\n",
    "print(name)\n",
    "print(type(name))"
   ]
  },
  {
   "cell_type": "markdown",
   "id": "f9520624",
   "metadata": {},
   "source": [
    "Q10. Given the string \"Hello, World!\", extract the substring \"World\"."
   ]
  },
  {
   "cell_type": "code",
   "execution_count": 8,
   "id": "983d50fa",
   "metadata": {},
   "outputs": [
    {
     "name": "stdout",
     "output_type": "stream",
     "text": [
      "World\n"
     ]
    }
   ],
   "source": [
    "#To extract the substring \"World\" from the string \"Hello, World!\", you can use slicing.\n",
    "s = \"Hello, World!\"\n",
    "substring = s[7:12]\n",
    "print(substring)\n"
   ]
  },
  {
   "cell_type": "markdown",
   "id": "9e7e6b74",
   "metadata": {},
   "source": [
    "Q11. Create a variable named \"is_student\" and assign it a boolean value indicating whether you are\n",
    "currently a student or not."
   ]
  },
  {
   "cell_type": "code",
   "execution_count": 9,
   "id": "e9f2a9ff",
   "metadata": {},
   "outputs": [],
   "source": [
    "is_student = True  # Set to True if you are a student, False otherwise\n"
   ]
  },
  {
   "cell_type": "code",
   "execution_count": null,
   "id": "1204c905",
   "metadata": {},
   "outputs": [],
   "source": []
  }
 ],
 "metadata": {
  "kernelspec": {
   "display_name": "Python 3 (ipykernel)",
   "language": "python",
   "name": "python3"
  },
  "language_info": {
   "codemirror_mode": {
    "name": "ipython",
    "version": 3
   },
   "file_extension": ".py",
   "mimetype": "text/x-python",
   "name": "python",
   "nbconvert_exporter": "python",
   "pygments_lexer": "ipython3",
   "version": "3.9.7"
  }
 },
 "nbformat": 4,
 "nbformat_minor": 5
}
