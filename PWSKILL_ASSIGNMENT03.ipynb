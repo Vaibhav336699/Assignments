{
 "cells": [
  {
   "cell_type": "markdown",
   "id": "031599af",
   "metadata": {},
   "source": [
    "Q1. Which keyword is used to create a function? Create a function to return a list of odd numbers in the\n",
    "range of 1 to 25."
   ]
  },
  {
   "cell_type": "code",
   "execution_count": 2,
   "id": "2149d299",
   "metadata": {},
   "outputs": [
    {
     "name": "stdout",
     "output_type": "stream",
     "text": [
      "[1, 3, 5, 7, 9, 11, 13, 15, 17, 19, 21, 23, 25]\n"
     ]
    }
   ],
   "source": [
    "# DEF keyword i used to create a function in python\n",
    "\n",
    "def get_odd_num():\n",
    "    odd_num = [i for i in range(1,26) if i%2!=0 ]\n",
    "    return odd_num\n",
    "print(get_odd_num())\n"
   ]
  },
  {
   "cell_type": "markdown",
   "id": "4e0079a3",
   "metadata": {},
   "source": [
    "Q2. Why *args and **kwargs is used in some functions? Create a function each for *args and **kwargs\n",
    "to demonstrate their use."
   ]
  },
  {
   "cell_type": "code",
   "execution_count": 3,
   "id": "27c2c9b7",
   "metadata": {},
   "outputs": [
    {
     "data": {
      "text/plain": [
       "'*args is used to pass a variable number of positional arguments to a function. It collects these arguments into a tuple within the function. This is useful when you want to create functions that can accept any number of positional arguments.\\n**kwargs is used to pass a variable number of keyword arguments (or named arguments) to a function. It collects these arguments into a dictionary within the function. This is useful when you want to create functions that can accept any number of keyword arguments.\\n'"
      ]
     },
     "execution_count": 3,
     "metadata": {},
     "output_type": "execute_result"
    }
   ],
   "source": [
    "#\n",
    "#In Python, *args and **kwargs are used in function definitions to handle variable numbers of arguments\n",
    "\n",
    "\"\"\"*args is used to pass a variable number of positional arguments to a function. It collects these arguments into a tuple within the function. This is useful when you want to create functions that can accept any number of positional arguments.\n",
    "**kwargs is used to pass a variable number of keyword arguments (or named arguments) to a function. It collects these arguments into a dictionary within the function. This is useful when you want to create functions that can accept any number of keyword arguments.\n",
    "\"\"\"\n",
    "\n",
    "\n",
    "\n"
   ]
  },
  {
   "cell_type": "markdown",
   "id": "484390e3",
   "metadata": {},
   "source": [
    "Q3. What is an iterator in python? Name the method used to initialise the iterator object and the method\n",
    "used for iteration. Use these methods to print the first five elements of the given list [2, 4, 6, 8, 10, 12, 14,\n",
    "16, 18, 20]."
   ]
  },
  {
   "cell_type": "code",
   "execution_count": 4,
   "id": "761affb0",
   "metadata": {},
   "outputs": [],
   "source": [
    "\n",
    "#In Python, an iterator is an object that implements the iterator protocol, which consists of two methods:\n",
    "#\n",
    "#__iter__() Method:\n",
    "#This method initializes the iterator object. It returns the iterator object itself.\n",
    "#__next__() Method:\n",
    "#This method is called on the iterator object to get the next element in the sequence. It returns the next element in the sequence, and if there are no more elements, it raises the StopIteration exception"
   ]
  },
  {
   "cell_type": "markdown",
   "id": "85f18469",
   "metadata": {},
   "source": [
    "Q4. What is a generator function in python? Why yield keyword is used? Give an example of a generator\n",
    "function."
   ]
  },
  {
   "cell_type": "code",
   "execution_count": 5,
   "id": "c30eb5b3",
   "metadata": {},
   "outputs": [
    {
     "name": "stdout",
     "output_type": "stream",
     "text": [
      "0\n",
      "1\n",
      "1\n",
      "2\n",
      "3\n",
      "5\n",
      "8\n",
      "13\n",
      "21\n",
      "34\n"
     ]
    }
   ],
   "source": [
    "#A generator function in Python is a special type of function that allows you to generate a sequence of values lazily, one at a time, rather than storing all values in memory at once.\n",
    "#Generator functions use the yield keyword to yield values one by one, suspending their state between each yield, allowing them to be resumed later.\n",
    "\n",
    "def fibonacci_generator():\n",
    "    a, b = 0, 1\n",
    "    while True:\n",
    "        yield a\n",
    "        a, b = b, a + b\n",
    "\n",
    "# Create a generator object\n",
    "fib_gen = fibonacci_generator()\n",
    "\n",
    "# Generate and print the first 10 Fibonacci numbers\n",
    "for _ in range(10):\n",
    "    print(next(fib_gen))\n"
   ]
  },
  {
   "cell_type": "markdown",
   "id": "5fa43906",
   "metadata": {},
   "source": [
    "Q5. Create a generator function for prime numbers less than 1000. Use the next() method to print the\n",
    "first 20 prime numbers."
   ]
  },
  {
   "cell_type": "code",
   "execution_count": 6,
   "id": "b5c616ce",
   "metadata": {},
   "outputs": [
    {
     "name": "stdout",
     "output_type": "stream",
     "text": [
      "2\n",
      "3\n",
      "5\n",
      "7\n",
      "11\n",
      "13\n",
      "17\n",
      "19\n",
      "23\n",
      "29\n",
      "31\n",
      "37\n",
      "41\n",
      "43\n",
      "47\n",
      "53\n",
      "59\n",
      "61\n",
      "67\n",
      "71\n"
     ]
    }
   ],
   "source": [
    "def generate_primes():\n",
    "    # Function to check if a number is prime\n",
    "    def is_prime(num):\n",
    "        if num < 2:\n",
    "            return False\n",
    "        for i in range(2, int(num ** 0.5) + 1):\n",
    "            if num % i == 0:\n",
    "                return False\n",
    "        return True\n",
    "\n",
    "    num = 2\n",
    "    while num < 1000:\n",
    "        if is_prime(num):\n",
    "            yield num\n",
    "        num += 1\n",
    "\n",
    "# Create a generator object for prime numbers\n",
    "prime_gen = generate_primes()\n",
    "\n",
    "# Print the first 20 prime numbers\n",
    "for _ in range(20):\n",
    "    print(next(prime_gen))\n"
   ]
  },
  {
   "cell_type": "markdown",
   "id": "ac519344",
   "metadata": {},
   "source": [
    "Q6. Write a python program to print the first 10 Fibonacci numbers using a while loop."
   ]
  },
  {
   "cell_type": "code",
   "execution_count": 7,
   "id": "17375c31",
   "metadata": {},
   "outputs": [
    {
     "name": "stdout",
     "output_type": "stream",
     "text": [
      "0\n",
      "1\n",
      "1\n",
      "2\n",
      "3\n",
      "5\n",
      "8\n",
      "13\n",
      "21\n",
      "34\n"
     ]
    }
   ],
   "source": [
    "# Initialize variables for the first two Fibonacci numbers\n",
    "a, b = 0, 1\n",
    "count = 0\n",
    "\n",
    "# Use a while loop to generate and print the first 10 Fibonacci numbers\n",
    "while count < 10:\n",
    "    print(a)\n",
    "    a, b = b, a + b\n",
    "    count += 1\n"
   ]
  },
  {
   "cell_type": "markdown",
   "id": "3d8da18d",
   "metadata": {},
   "source": [
    "Q7. Write a List Comprehension to iterate through the given string: ‘pwskills’.\n",
    "Expected output: ['p', 'w', 's', 'k', 'i', 'l', 'l', 's']"
   ]
  },
  {
   "cell_type": "code",
   "execution_count": 9,
   "id": "716596bd",
   "metadata": {},
   "outputs": [
    {
     "name": "stdout",
     "output_type": "stream",
     "text": [
      "['p', 'w', 's', 'k', 'i', 'l', 'l', 's']\n"
     ]
    }
   ],
   "source": [
    "my_string = 'pwskills'\n",
    "result= [x for x in my_string]\n",
    "print(result)"
   ]
  },
  {
   "cell_type": "markdown",
   "id": "75e72bb6",
   "metadata": {},
   "source": [
    "Q8. Write a python program to check whether a given number is Palindrome or not using a while loop"
   ]
  },
  {
   "cell_type": "code",
   "execution_count": 11,
   "id": "5bdb885c",
   "metadata": {},
   "outputs": [
    {
     "name": "stdout",
     "output_type": "stream",
     "text": [
      "True\n",
      "True\n",
      "False\n"
     ]
    }
   ],
   "source": [
    "def is_palindrome(number):\n",
    "    original_number = number\n",
    "    reversed_number = 0\n",
    "\n",
    "    # Reverse the number using a while loop\n",
    "    while number > 0:\n",
    "        digit = number % 10\n",
    "        reversed_number = reversed_number * 10 + digit\n",
    "        number = number // 10\n",
    "\n",
    "    # Check if the original number is equal to its reversed version\n",
    "    return original_number == reversed_number\n",
    "\n",
    "# Test the function with some examples\n",
    "print(is_palindrome(545))  # Output: True\n",
    "print(is_palindrome(12321))  # Output: True\n",
    "print(is_palindrome(12345))  # Output: False\n"
   ]
  },
  {
   "cell_type": "markdown",
   "id": "d274fb69",
   "metadata": {},
   "source": [
    "Q9. Write a code to print odd numbers from 1 to 100 using list comprehension.\n",
    "Note: Use a list comprehension to create a list from 1 to 100 and use another List comprehension to filter\n",
    "out odd numbers."
   ]
  },
  {
   "cell_type": "code",
   "execution_count": 16,
   "id": "bfce31d5",
   "metadata": {},
   "outputs": [
    {
     "data": {
      "text/plain": [
       "[1,\n",
       " 3,\n",
       " 5,\n",
       " 7,\n",
       " 9,\n",
       " 11,\n",
       " 13,\n",
       " 15,\n",
       " 17,\n",
       " 19,\n",
       " 21,\n",
       " 23,\n",
       " 25,\n",
       " 27,\n",
       " 29,\n",
       " 31,\n",
       " 33,\n",
       " 35,\n",
       " 37,\n",
       " 39,\n",
       " 41,\n",
       " 43,\n",
       " 45,\n",
       " 47,\n",
       " 49,\n",
       " 51,\n",
       " 53,\n",
       " 55,\n",
       " 57,\n",
       " 59,\n",
       " 61,\n",
       " 63,\n",
       " 65,\n",
       " 67,\n",
       " 69,\n",
       " 71,\n",
       " 73,\n",
       " 75,\n",
       " 77,\n",
       " 79,\n",
       " 81,\n",
       " 83,\n",
       " 85,\n",
       " 87,\n",
       " 89,\n",
       " 91,\n",
       " 93,\n",
       " 95,\n",
       " 97,\n",
       " 99]"
      ]
     },
     "execution_count": 16,
     "metadata": {},
     "output_type": "execute_result"
    }
   ],
   "source": [
    "numbers = [x for x in range(1,101)]\n",
    "numbers\n",
    "odd_num = [x for x in numbers if x%2!=0]\n",
    "odd_num"
   ]
  },
  {
   "cell_type": "code",
   "execution_count": null,
   "id": "c0af2853",
   "metadata": {},
   "outputs": [],
   "source": []
  }
 ],
 "metadata": {
  "kernelspec": {
   "display_name": "Python 3 (ipykernel)",
   "language": "python",
   "name": "python3"
  },
  "language_info": {
   "codemirror_mode": {
    "name": "ipython",
    "version": 3
   },
   "file_extension": ".py",
   "mimetype": "text/x-python",
   "name": "python",
   "nbconvert_exporter": "python",
   "pygments_lexer": "ipython3",
   "version": "3.9.7"
  }
 },
 "nbformat": 4,
 "nbformat_minor": 5
}
