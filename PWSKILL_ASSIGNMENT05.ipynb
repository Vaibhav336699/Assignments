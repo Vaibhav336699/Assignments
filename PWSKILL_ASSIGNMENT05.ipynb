{
 "cells": [
  {
   "cell_type": "markdown",
   "id": "4bd4cb29",
   "metadata": {},
   "source": [
    "Q1, Create a vehicle class with an init method having instance variables as name_of_vehicle, max_speed\n",
    "and average_of_vehicle."
   ]
  },
  {
   "cell_type": "code",
   "execution_count": 4,
   "id": "af7e1d1b",
   "metadata": {},
   "outputs": [
    {
     "name": "stdout",
     "output_type": "stream",
     "text": [
      "hyundai\n",
      "120\n",
      "19\n"
     ]
    }
   ],
   "source": [
    "class vehicle:\n",
    "    def __init__(self,name_of_vehicle,max_speed,average_of_vehicle):\n",
    "        self.name_of_vehicle=name_of_vehicle\n",
    "        self.max_speed=max_speed\n",
    "        self.average_of_vehicle=average_of_vehicle\n",
    "        \n",
    "car= vehicle(\"hyundai\",120,19)\n",
    "print(car.name_of_vehicle)\n",
    "print(car.max_speed)\n",
    "print(car.average_of_vehicle)\n",
    "\n"
   ]
  },
  {
   "cell_type": "markdown",
   "id": "ae094fcc",
   "metadata": {},
   "source": [
    "Q2. Create a child class car from the vehicle class created in Que 1, which will inherit the vehicle class.\n",
    "Create a method named seating_capacity which takes capacity as an argument and returns the name of\n",
    "the vehicle and its seating capacity."
   ]
  },
  {
   "cell_type": "code",
   "execution_count": 1,
   "id": "92b63721",
   "metadata": {},
   "outputs": [],
   "source": [
    "class vehicle:\n",
    "    def __init__(self,name_of_vehicle,max_speed,avearge_of_vehicle):\n",
    "        self.name_of_vehicle = name_of_vehicle\n",
    "        self.max_speed = max_speed\n",
    "        self.avearge_of_vehicle = avearge_of_vehicle\n",
    "        "
   ]
  },
  {
   "cell_type": "markdown",
   "id": "4e74de47",
   "metadata": {},
   "source": [
    "Q3) What is multiple inheritance? Write a python code to demonstrate multiple inheritance."
   ]
  },
  {
   "cell_type": "code",
   "execution_count": 2,
   "id": "f9b970d1",
   "metadata": {},
   "outputs": [
    {
     "name": "stdout",
     "output_type": "stream",
     "text": [
      "Animal speaks\n",
      "Pet cuddles\n",
      "Dog barks\n"
     ]
    }
   ],
   "source": [
    "# Multiple inheritance in Python occurs when a class is derived from more than one base class. \n",
    "# This means the child class inherits attributes and methods from all of its parent classes.\n",
    "\n",
    "# Parent class 1\n",
    "class Animal:\n",
    "    def speak(self):\n",
    "        return \"Animal speaks\"\n",
    "\n",
    "# Parent class 2\n",
    "class Pet:\n",
    "    def cuddle(self):\n",
    "        return \"Pet cuddles\"\n",
    "\n",
    "# Child class inheriting from both Animal and Pet\n",
    "class Dog(Animal, Pet):\n",
    "    def bark(self):\n",
    "        return \"Dog barks\"\n",
    "\n",
    "# Create an instance of Dog\n",
    "my_dog = Dog()\n",
    "\n",
    "# Demonstrate inheritance\n",
    "print(my_dog.speak())  # Output: Animal speaks\n",
    "print(my_dog.cuddle())  # Output: Pet cuddles\n",
    "print(my_dog.bark())   # Output: Dog barks\n"
   ]
  },
  {
   "cell_type": "markdown",
   "id": "cd39d9de",
   "metadata": {},
   "source": [
    "Q4. What are getter and setter in python? Create a class and create a getter and a setter method in this\n",
    "class."
   ]
  },
  {
   "cell_type": "code",
   "execution_count": 3,
   "id": "47980a4a",
   "metadata": {},
   "outputs": [
    {
     "name": "stdout",
     "output_type": "stream",
     "text": [
      "Hello, world!\n"
     ]
    }
   ],
   "source": [
    "# In Python, getters and setters are methods used to access and modify the attributes of a class in a controlled manner. \n",
    "# They are commonly used to enforce encapsulation and to ensure data integrity by controlling access to class attributes.\n",
    "\n",
    "class MyClass:\n",
    "    def __init__(self):\n",
    "        self._my_attribute = None  # Initialize the attribute with None\n",
    "    \n",
    "    # Getter method\n",
    "    def get_my_attribute(self):\n",
    "        return self._my_attribute\n",
    "    \n",
    "    # Setter method\n",
    "    def set_my_attribute(self, value):\n",
    "        self._my_attribute = value\n",
    "\n",
    "# Create an instance of MyClass\n",
    "obj = MyClass()\n",
    "\n",
    "# Set the attribute using the setter method\n",
    "obj.set_my_attribute(\"Hello, world!\")\n",
    "\n",
    "# Get the attribute using the getter method\n",
    "print(obj.get_my_attribute())  # Output: Hello, world!\n"
   ]
  },
  {
   "cell_type": "markdown",
   "id": "b1e9d1b6",
   "metadata": {},
   "source": [
    "Q5.What is method overriding in python? Write a python code to demonstrate method overriding."
   ]
  },
  {
   "cell_type": "code",
   "execution_count": 5,
   "id": "396ded64",
   "metadata": {},
   "outputs": [
    {
     "name": "stdout",
     "output_type": "stream",
     "text": [
      "Woof!\n",
      "Meow!\n"
     ]
    }
   ],
   "source": [
    "\n",
    "#Method overriding in Python refers to the ability of a subclass to provide a specific implementation of a method that is already defined in its superclass.\n",
    "\n",
    "# Parent class\n",
    "class Animal:\n",
    "    def make_sound(self):\n",
    "        return \"Generic animal sound\"\n",
    "\n",
    "# Child class overriding the make_sound method\n",
    "class Dog(Animal):\n",
    "    def make_sound(self):\n",
    "        return \"Woof!\"\n",
    "\n",
    "# Child class overriding the make_sound method differently\n",
    "class Cat(Animal):\n",
    "    def make_sound(self):\n",
    "        return \"Meow!\"\n",
    "\n",
    "# Create instances of Dog and Cat\n",
    "dog = Dog()\n",
    "cat = Cat()\n",
    "\n",
    "# Demonstrate method overriding\n",
    "print(dog.make_sound())  # Output: Woof!\n",
    "print(cat.make_sound())  # Output: Meow!\n"
   ]
  },
  {
   "cell_type": "code",
   "execution_count": null,
   "id": "f27386a2",
   "metadata": {},
   "outputs": [],
   "source": []
  }
 ],
 "metadata": {
  "kernelspec": {
   "display_name": "Python 3 (ipykernel)",
   "language": "python",
   "name": "python3"
  },
  "language_info": {
   "codemirror_mode": {
    "name": "ipython",
    "version": 3
   },
   "file_extension": ".py",
   "mimetype": "text/x-python",
   "name": "python",
   "nbconvert_exporter": "python",
   "pygments_lexer": "ipython3",
   "version": "3.9.7"
  }
 },
 "nbformat": 4,
 "nbformat_minor": 5
}
