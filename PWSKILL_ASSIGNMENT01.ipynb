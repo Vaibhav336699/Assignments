{
 "cells": [
  {
   "cell_type": "code",
   "execution_count": 1,
   "id": "02394608",
   "metadata": {},
   "outputs": [],
   "source": [
    "#Q1. Create one variable containing following type of data:\n",
    "#(i) string\n",
    "#(ii) list\n",
    "#(iii) float\n",
    "#(iv) tuple\n",
    "\n",
    "#STRING\n",
    "my_string = \"Hi, everyone\"\n",
    "\n",
    "#List\n",
    "my_list = [1,2,3,4,5,6]\n",
    "\n",
    "#FLOAT\n",
    "my_float = 5.6\n",
    "\n",
    "#TUPLE\n",
    "my_tuple = (10,20,30,40)\n",
    "\n",
    "\n",
    "\n"
   ]
  },
  {
   "cell_type": "code",
   "execution_count": 3,
   "id": "2a033f23",
   "metadata": {},
   "outputs": [],
   "source": [
    "#Q2. Given are some following variables containing data:\n",
    "#(i) var1 = ‘ ‘\n",
    "#(ii) var2 = ‘[ DS , ML , Python]’\n",
    "#(iii) var3 = [ ‘DS’ , ’ML’ , ‘Python’ ]\n",
    "#(iv) var4 = 1.\n",
    "#What will be the data type of the above given variable.\n",
    "\n",
    "#(i)var1= ' '\n",
    "# this variable contain an empty string so the data type will be 'str'(string)\n",
    "\n",
    "#(ii) var2 = ‘[ DS , ML , Python]’\n",
    "#this variable contains also a string as it enclosed in single quotes so data type is str(string)\n",
    "\n",
    "#(iii) var3 = [ ‘DS’ , ’ML’ , ‘Python’ ]\n",
    "# this variable contains list of string, so data type is a LIST\n",
    "\n",
    "#(iv) var4 = 1.\n",
    "#this variable contain floating point number so data type is float.\n",
    "\n",
    "\n"
   ]
  },
  {
   "cell_type": "markdown",
   "id": "ef889951",
   "metadata": {},
   "source": [
    "Q3. Explain the use of the following operators using an example:\n",
    "(i) /\n",
    "(ii) %\n",
    "(iii) //\n",
    "(iv) **"
   ]
  },
  {
   "cell_type": "code",
   "execution_count": 12,
   "id": "df51b43a",
   "metadata": {},
   "outputs": [
    {
     "name": "stdout",
     "output_type": "stream",
     "text": [
      "6.125\n",
      "2\n",
      "2\n",
      "16\n"
     ]
    }
   ],
   "source": [
    "# (i)   /\n",
    "# above operator is called Division Operator which is used to divide one number by another\n",
    "\n",
    "divide = 49/8\n",
    "print(divide)\n",
    "#output = 6.125 \n",
    "\n",
    "# (ii) %\n",
    "# above operator % called as modulus operator, it returns the remainder\n",
    "\n",
    "modulo = 10%4\n",
    "print(modulo)\n",
    "# output =2\n",
    "\n",
    "\n",
    "#(iii) //\n",
    "# above operator is called as floor division operator,used to perform division where the result is down to integer\n",
    " \n",
    "floor_d = 15//6\n",
    "print(floor_d)\n",
    "\n",
    "# (iv) **\n",
    "# the above operator called as exponentiation operator,it raises the first operand to the power of second\n",
    "\n",
    "expo = 2**4\n",
    "print(expo)\n",
    "    \n"
   ]
  },
  {
   "cell_type": "markdown",
   "id": "839fcbe5",
   "metadata": {},
   "source": [
    "Q4. Create a list of length 10 of your choice containing multiple types of data. Using for loop print the\n",
    "element and its data type.\n",
    "\n"
   ]
  },
  {
   "cell_type": "code",
   "execution_count": 16,
   "id": "a28b54c4",
   "metadata": {},
   "outputs": [
    {
     "name": "stdout",
     "output_type": "stream",
     "text": [
      "Element: 1 Data Type: <class 'int'>\n",
      "Element: Hello Data Type: <class 'str'>\n",
      "Element: 3.14 Data Type: <class 'float'>\n",
      "Element: True Data Type: <class 'bool'>\n",
      "Element: [5, 6] Data Type: <class 'list'>\n",
      "Element: {'key': 'value'} Data Type: <class 'dict'>\n",
      "Element: (7, 8) Data Type: <class 'tuple'>\n",
      "Element: None Data Type: <class 'NoneType'>\n",
      "Element: 9.99 Data Type: <class 'float'>\n",
      "Element: World Data Type: <class 'str'>\n"
     ]
    }
   ],
   "source": [
    "my_list = [1, \"Hello\", 3.14, True, [5, 6], {'key': 'value'}, (7, 8), None, 9.99, \"World\"]\n",
    "for i in my_list:\n",
    "    print(\"Element:\",i,\"Data Type:\",type(i))\n"
   ]
  },
  {
   "cell_type": "markdown",
   "id": "4688c836",
   "metadata": {},
   "source": [
    "Q5. Using a while loop, verify if the number A is purely divisible by number B and if so then how many\n",
    "times it can be divisible."
   ]
  },
  {
   "cell_type": "code",
   "execution_count": null,
   "id": "a4a3a9d7",
   "metadata": {},
   "outputs": [],
   "source": [
    "# Taking input for numbers A and B\n",
    "A = int(input(\"Enter the number A: \"))\n",
    "B = int(input(\"Enter the number B: \"))\n",
    "\n",
    "# Initializing a variable to count the number of divisions\n",
    "count = 0\n",
    "\n",
    "# Checking if A is purely divisible by B\n",
    "while A % B == 0:\n",
    "    # Dividing A by B\n",
    "    A = A / B\n",
    "    # Incrementing the count of divisions\n",
    "    count += 1\n",
    "\n",
    "# Printing the result\n",
    "if count > 0:\n",
    "    print(\"Number A is purely divisible by number B \", count, \"times.\")\n",
    "else:\n",
    "    print(\"Number A is not purely divisible by number B.\")\n"
   ]
  },
  {
   "cell_type": "markdown",
   "id": "066219a1",
   "metadata": {},
   "source": [
    "Q6. Create a list containing 25 int type data. Using for loop and if-else condition print if the element is\n",
    "divisible by 3 or not."
   ]
  },
  {
   "cell_type": "code",
   "execution_count": 24,
   "id": "e0a3801a",
   "metadata": {},
   "outputs": [
    {
     "name": "stdout",
     "output_type": "stream",
     "text": [
      "1  element is not divisible by 3\n",
      "2  element is not divisible by 3\n",
      "3  element is divisible by 3\n",
      "4  element is not divisible by 3\n",
      "5  element is not divisible by 3\n",
      "6  element is divisible by 3\n",
      "7  element is not divisible by 3\n",
      "8  element is not divisible by 3\n",
      "9  element is divisible by 3\n",
      "10  element is not divisible by 3\n",
      "11  element is not divisible by 3\n",
      "12  element is divisible by 3\n",
      "13  element is not divisible by 3\n",
      "14  element is not divisible by 3\n",
      "15  element is divisible by 3\n",
      "16  element is not divisible by 3\n",
      "17  element is not divisible by 3\n",
      "18  element is divisible by 3\n",
      "19  element is not divisible by 3\n",
      "20  element is not divisible by 3\n",
      "21  element is divisible by 3\n",
      "22  element is not divisible by 3\n",
      "23  element is not divisible by 3\n",
      "24  element is divisible by 3\n",
      "25  element is not divisible by 3\n"
     ]
    }
   ],
   "source": [
    "my_int_list = [1, 2, 3, 4, 5, 6, 7, 8, 9, 10,\n",
    "               11, 12, 13, 14, 15, 16, 17, 18, 19, 20,\n",
    "               21, 22, 23, 24, 25]\n",
    "for i in my_int_list:\n",
    "    if i %3==0:\n",
    "        print(i,\" element is divisible by 3\")\n",
    "    else:\n",
    "        print(i,\" element is not divisible by 3\")"
   ]
  },
  {
   "cell_type": "markdown",
   "id": "38238b75",
   "metadata": {},
   "source": [
    "Q7. What do you understand about mutable and immutable data types? Give examples for both showing\n",
    "this property."
   ]
  },
  {
   "cell_type": "code",
   "execution_count": 26,
   "id": "9a7f132b",
   "metadata": {},
   "outputs": [
    {
     "name": "stdout",
     "output_type": "stream",
     "text": [
      "Original list: [1, 2, 3]\n",
      "Modified list: [1, 2, 3, 4]\n",
      "Original value of x: 5\n",
      "New value of x: 6\n"
     ]
    }
   ],
   "source": [
    "#mutable data type : in this data type we can change the data and modify the data once the object is created\n",
    "# Mutable data types: lists\n",
    "my_list = [1, 2, 3]\n",
    "print(\"Original list:\", my_list)\n",
    "\n",
    "# Modifying the list by appending a new element\n",
    "my_list.append(4)\n",
    "print(\"Modified list:\", my_list)\n",
    "\n",
    "\n",
    "#immutable data type: in this data type we can not change the data and modify the data once the object is created\n",
    "\n",
    "# Immutable data types: integers\n",
    "x = 5\n",
    "print(\"Original value of x:\", x)\n",
    "\n",
    "# Attempting to modify the value of x\n",
    "x = x + 1\n",
    "print(\"New value of x:\", x)\n",
    "\n",
    "\n"
   ]
  },
  {
   "cell_type": "code",
   "execution_count": null,
   "id": "22071c83",
   "metadata": {},
   "outputs": [],
   "source": []
  }
 ],
 "metadata": {
  "kernelspec": {
   "display_name": "Python 3 (ipykernel)",
   "language": "python",
   "name": "python3"
  },
  "language_info": {
   "codemirror_mode": {
    "name": "ipython",
    "version": 3
   },
   "file_extension": ".py",
   "mimetype": "text/x-python",
   "name": "python",
   "nbconvert_exporter": "python",
   "pygments_lexer": "ipython3",
   "version": "3.9.7"
  }
 },
 "nbformat": 4,
 "nbformat_minor": 5
}
