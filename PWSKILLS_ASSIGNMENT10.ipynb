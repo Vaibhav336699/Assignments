{
 "cells": [
  {
   "cell_type": "markdown",
   "id": "dd916de1",
   "metadata": {},
   "source": [
    "Q1). What is multithreading in python? Why is it used? Name the module used to handle threads in python"
   ]
  },
  {
   "cell_type": "code",
   "execution_count": 1,
   "id": "283f1dac",
   "metadata": {},
   "outputs": [],
   "source": [
    "# Multithreading in Python refers to the concurrent execution of multiple threads within a single process. \n",
    "# Each thread represents a separate flow of control that can execute code independently of other threads\n",
    "\n",
    "# Multithreading is used for various purposes in Python, including:\n",
    "#Concurrency\n",
    "#Parallelism\n",
    "#Asynchronous I/O \n",
    "#Responsive User Interfaces\n",
    "    \n"
   ]
  },
  {
   "cell_type": "markdown",
   "id": "9b1a30e7",
   "metadata": {},
   "source": [
    "Q2)  Why threading module used? write the use of the following functions\n",
    "1 activeCount\n",
    "2 currentThread\n",
    "3 enumerate)"
   ]
  },
  {
   "cell_type": "code",
   "execution_count": 2,
   "id": "5842c560",
   "metadata": {},
   "outputs": [],
   "source": [
    "#\n",
    "#The threading module in Python is used for creating and managing threads in multithreaded applications.\n",
    "\n",
    "# activeCount():\n",
    "#The activeCount() function returns the number of Thread objects that are currently alive.\n",
    "#It is used to determine the current number of active threads in the program.\n",
    "\n",
    "#currentThread():\n",
    "# The currentThread() function returns the Thread object representing the current thread of execution.\n",
    "# It is used to obtain a reference to the current thread, which can be used to access thread-specific attributes or perform thread-related operations.\n",
    "\n",
    "\n",
    "#enumerate():\n",
    "#The enumerate() function returns a list of all Thread objects currently alive.\n",
    "#It is used to obtain a list of all active threads in the program.\n"
   ]
  },
  {
   "cell_type": "markdown",
   "id": "bf51b544",
   "metadata": {},
   "source": [
    "Q3). Explain the following functions\n",
    "run()\n",
    "start()\n",
    "join()\n",
    "isAlive()"
   ]
  },
  {
   "cell_type": "code",
   "execution_count": 3,
   "id": "6f70ae66",
   "metadata": {},
   "outputs": [],
   "source": [
    "#run():\n",
    "#The run() method is called when a Thread object is started using the start() method.\n",
    "\n",
    "#start():\n",
    "#The start() method is used to start the execution of the thread by calling its run() method.\n",
    "\n",
    "\n",
    "#join():\n",
    "#The join() method is used to wait for the thread to complete its execution before proceeding with the rest of the program.\n",
    "\n",
    "\n",
    "#isAlive():\n",
    "#The isAlive() method is used to check if the thread is currently executing (alive) or has terminated.\n",
    "\n",
    "\n"
   ]
  },
  {
   "cell_type": "markdown",
   "id": "570800fd",
   "metadata": {},
   "source": [
    "Q4). rite a python program to create two threads. Thread one must print the list of squares and thread\n",
    "two must print the list of cubes"
   ]
  },
  {
   "cell_type": "code",
   "execution_count": 4,
   "id": "d576bbf4",
   "metadata": {},
   "outputs": [
    {
     "name": "stdout",
     "output_type": "stream",
     "text": [
      "List of squares: [1, 4, 9, 16, 25]\n",
      "List of cubes: [1, 8, 27, 64, 125]\n",
      "Main thread exiting...\n"
     ]
    }
   ],
   "source": [
    "import threading\n",
    "\n",
    "def print_squares(n):\n",
    "    squares = [i ** 2 for i in range(1, n + 1)]\n",
    "    print(\"List of squares:\", squares)\n",
    "\n",
    "def print_cubes(n):\n",
    "    cubes = [i ** 3 for i in range(1, n + 1)]\n",
    "    print(\"List of cubes:\", cubes)\n",
    "\n",
    "# Create two threads\n",
    "thread1 = threading.Thread(target=print_squares, args=(5,))\n",
    "thread2 = threading.Thread(target=print_cubes, args=(5,))\n",
    "\n",
    "# Start the threads\n",
    "thread1.start()\n",
    "thread2.start()\n",
    "\n",
    "# Wait for both threads to complete\n",
    "thread1.join()\n",
    "thread2.join()\n",
    "\n",
    "print(\"Main thread exiting...\")\n"
   ]
  },
  {
   "cell_type": "markdown",
   "id": "4d2808bb",
   "metadata": {},
   "source": [
    "Q5) State advantages and disadvantages of multithreading"
   ]
  },
  {
   "cell_type": "code",
   "execution_count": 5,
   "id": "b95fd0d7",
   "metadata": {},
   "outputs": [],
   "source": [
    "#Advantages:\n",
    "\n",
    "#Concurrency: Multithreading allows multiple tasks to be executed concurrently within a single process, enabling efficient utilization of CPU resources and improving overall system responsiveness.\n",
    "#Asynchronous I/O: Multithreading is well-suited for I/O-bound tasks, such as network operations or file I/O, where threads can perform non-blocking I/O operations asynchronously while allowing other threads to continue execution.\n",
    "    \n",
    "#Disadvantages:\n",
    "\n",
    "#Complexity and Synchronization: Multithreading introduces complexity due to the need for synchronization mechanisms to coordinate access to shared resources and prevent race conditions, deadlocks, and other concurrency-related issues.\n",
    "#GIL Limitations: In Python, the Global Interpreter Lock (GIL) restricts true parallelism by allowing only one thread to execute Python bytecode at a time, even on multi-core CPUs. This limitation can hinder the performance of CPU-bound multithreaded applications.\n",
    "    "
   ]
  },
  {
   "cell_type": "markdown",
   "id": "30452490",
   "metadata": {},
   "source": [
    "6. Explain deadlocks and race conditions."
   ]
  },
  {
   "cell_type": "code",
   "execution_count": 6,
   "id": "7060b5fb",
   "metadata": {},
   "outputs": [],
   "source": [
    "# \n",
    "#Deadlocks and race conditions are common concurrency-related issues that can occur in multithreaded programs.\n",
    "\n",
    "#Deadlocks:\n",
    "# A deadlock occurs when two or more threads are waiting indefinitely for each other to release resources that they need to proceed.\n",
    "# Deadlocks typically occur in concurrent programs that use multiple locks or resources and acquire them in a specific order.\n",
    "\n",
    "# Race Conditions:\n",
    "# A race condition occurs when the behavior of a program depends on the timing or interleaving of operations performed by multiple threads.\n",
    "# Race conditions typically arise when multiple threads access and modify shared resources concurrently without proper synchronization.\n",
    "\n"
   ]
  },
  {
   "cell_type": "code",
   "execution_count": null,
   "id": "e1160618",
   "metadata": {},
   "outputs": [],
   "source": []
  }
 ],
 "metadata": {
  "kernelspec": {
   "display_name": "Python 3 (ipykernel)",
   "language": "python",
   "name": "python3"
  },
  "language_info": {
   "codemirror_mode": {
    "name": "ipython",
    "version": 3
   },
   "file_extension": ".py",
   "mimetype": "text/x-python",
   "name": "python",
   "nbconvert_exporter": "python",
   "pygments_lexer": "ipython3",
   "version": "3.9.7"
  }
 },
 "nbformat": 4,
 "nbformat_minor": 5
}
