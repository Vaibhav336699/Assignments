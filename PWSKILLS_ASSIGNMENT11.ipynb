{
 "cells": [
  {
   "cell_type": "markdown",
   "id": "21cf38c1",
   "metadata": {},
   "source": [
    "Q1. What is multiprocessing in python? Why is it useful?"
   ]
  },
  {
   "cell_type": "code",
   "execution_count": 1,
   "id": "18e2b6e7",
   "metadata": {},
   "outputs": [],
   "source": [
    "# Multiprocessing in Python refers to the ability of the Python interpreter to run multiple processes simultaneously. \n",
    "# Each process runs independently of the others, with its own memory space and resources, allowing true parallelism on multi-core processors.\n"
   ]
  },
  {
   "cell_type": "markdown",
   "id": "27e6d953",
   "metadata": {},
   "source": [
    "Q2) What are the differences between multiprocessing and multithreading?\n"
   ]
  },
  {
   "cell_type": "code",
   "execution_count": 2,
   "id": "b278f753",
   "metadata": {},
   "outputs": [],
   "source": [
    "# Multiprocessing involves running multiple processes simultaneously, where each process has its own memory space, resources, and execution environment.\n",
    "# Multithreading involves running multiple threads within a single process, where all threads share the same memory space and resources of the parent process.\n",
    "\n",
    "# Multiprocessing achieves true parallelism by executing multiple processes concurrently, potentially on different CPU cores. Each process runs independently of the others.\n",
    "# Multithreading achieves concurrency by interleaving the execution of multiple threads within a single process. Threads share the same CPU core and take turns executing instructions.\n",
    "\n"
   ]
  },
  {
   "cell_type": "markdown",
   "id": "e331ad98",
   "metadata": {},
   "source": [
    "Q3)Write a python code to create a process using the multiprocessing module."
   ]
  },
  {
   "cell_type": "code",
   "execution_count": 3,
   "id": "b0dce5a8",
   "metadata": {},
   "outputs": [
    {
     "name": "stdout",
     "output_type": "stream",
     "text": [
      "Main process exiting...\n"
     ]
    }
   ],
   "source": [
    "import multiprocessing\n",
    "import os\n",
    "\n",
    "def process_function():\n",
    "    # Get the process ID and parent process ID\n",
    "    pid = os.getpid()\n",
    "    parent_pid = os.getppid()\n",
    "    print(f\"Child process ID: {pid}\")\n",
    "    print(f\"Parent process ID: {parent_pid}\")\n",
    "\n",
    "if __name__ == \"__main__\":\n",
    "    # Create a multiprocessing Process object\n",
    "    process = multiprocessing.Process(target=process_function)\n",
    "\n",
    "    # Start the process\n",
    "    process.start()\n",
    "\n",
    "    # Wait for the process to finish\n",
    "    process.join()\n",
    "\n",
    "    print(\"Main process exiting...\")\n"
   ]
  },
  {
   "cell_type": "markdown",
   "id": "d51a43f5",
   "metadata": {},
   "source": [
    "Q4. What is a multiprocessing pool in python? Why is it used?"
   ]
  },
  {
   "cell_type": "code",
   "execution_count": 4,
   "id": "5e358bf3",
   "metadata": {},
   "outputs": [],
   "source": [
    "# A multiprocessing pool in Python refers to a collection of worker processes managed by the multiprocessing.Pool class. \n",
    "# It provides a convenient way to distribute tasks across multiple processes and execute them in parallel.\n",
    "\n",
    "#The multiprocessing pool is used for various purposes, including:\n",
    "#Parallel Processing\n",
    "#Asynchronous Execution\n",
    "#Scalability\n",
    "#Resource Management\n",
    "\n"
   ]
  },
  {
   "cell_type": "markdown",
   "id": "511d8857",
   "metadata": {},
   "source": [
    "Q5. How can we create a pool of worker processes in python using the multiprocessing module?"
   ]
  },
  {
   "cell_type": "code",
   "execution_count": null,
   "id": "94cd80ec",
   "metadata": {},
   "outputs": [],
   "source": [
    "import multiprocessing\n",
    "\n",
    "def task_function(x):\n",
    "    return x ** 2\n",
    "\n",
    "if __name__ == \"__main__\":\n",
    "    # Create a multiprocessing pool with 4 worker processes\n",
    "    with multiprocessing.Pool(processes=4) as pool:\n",
    "        # Define a list of input values\n",
    "        inputs = [1, 2, 3, 4, 5]\n",
    "\n",
    "        # Apply the task function to each input value in parallel\n",
    "        results = pool.map(task_function, inputs)\n",
    "\n",
    "        # Print the results\n",
    "        print(\"Results:\", results)\n"
   ]
  },
  {
   "cell_type": "markdown",
   "id": "5c6a41c5",
   "metadata": {},
   "source": [
    "Q6. Write a python program to create 4 processes, each process should print a different number using the\n",
    "multiprocessing module in python."
   ]
  },
  {
   "cell_type": "code",
   "execution_count": null,
   "id": "9cf7212b",
   "metadata": {},
   "outputs": [],
   "source": [
    "import multiprocessing\n",
    "\n",
    "def print_number(number):\n",
    "    print(f\"Process {multiprocessing.current_process().pid}: {number}\")\n",
    "\n",
    "if __name__ == \"__main__\":\n",
    "    # Define the numbers to be printed by each process\n",
    "    numbers = [1, 2, 3, 4]\n",
    "\n",
    "    # Create a list to store the Process objects\n",
    "    processes = []\n",
    "\n",
    "    # Create 4 processes, each printing a different number\n",
    "    for number in numbers:\n",
    "        process = multiprocessing.Process(target=print_number, args=(number,))\n",
    "        processes.append(process)\n",
    "        process.start()\n",
    "\n",
    "    # Wait for all processes to finish\n",
    "    for process in processes:\n",
    "        process.join()\n",
    "\n",
    "    print(\"Main process exiting...\")\n"
   ]
  }
 ],
 "metadata": {
  "kernelspec": {
   "display_name": "Python 3 (ipykernel)",
   "language": "python",
   "name": "python3"
  },
  "language_info": {
   "codemirror_mode": {
    "name": "ipython",
    "version": 3
   },
   "file_extension": ".py",
   "mimetype": "text/x-python",
   "name": "python",
   "nbconvert_exporter": "python",
   "pygments_lexer": "ipython3",
   "version": "3.9.7"
  }
 },
 "nbformat": 4,
 "nbformat_minor": 5
}
