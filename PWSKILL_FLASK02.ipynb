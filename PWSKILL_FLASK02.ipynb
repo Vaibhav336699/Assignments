{
 "cells": [
  {
   "cell_type": "markdown",
   "id": "b479db15",
   "metadata": {},
   "source": [
    "Q1. Explain GET and POST methods."
   ]
  },
  {
   "cell_type": "code",
   "execution_count": 1,
   "id": "fc7ca1fa",
   "metadata": {},
   "outputs": [],
   "source": [
    "# In Flask, the GET and POST methods are HTTP request methods used to send data from a client (such as a web browser or a mobile app) to a server-side endpoint, typically a route defined in a Flask application.\n",
    "\n",
    "# GET Method:\n",
    "\n",
    "# The GET method is used to request data from a specified resource.\n",
    "# When a client sends a GET request to a Flask route, it typically means the client wants to retrieve data from the server.\n",
    "# In Flask, you can handle GET requests using the @app.route() decorator and specifying the HTTP method as 'GET'.capitalize\n",
    "\n",
    "# POST Method:\n",
    "\n",
    "# The POST method is used to submit data to be processed to a specified resource.\n",
    "# When a client sends a POST request to a Flask route, it typically means the client wants to send data to the server to be processed.\n",
    "# In Flask, you can handle POST requests using the @app.route() decorator and specifying the HTTP method as 'POST'.capitalize\n",
    "\n",
    "\n",
    "\n"
   ]
  },
  {
   "cell_type": "markdown",
   "id": "c3164c87",
   "metadata": {},
   "source": [
    "Q2. Why is request used in Flask?"
   ]
  },
  {
   "cell_type": "code",
   "execution_count": 2,
   "id": "7bc9f6f4",
   "metadata": {},
   "outputs": [],
   "source": [
    "# In Flask, the request object is used to access incoming request data in the context of a web application.\n",
    "#It provides access to various properties and methods that allow developers to interact with the incoming HTTP request, including accessing form data, query parameters, cookies, headers, and file uploads.\n",
    "\n"
   ]
  },
  {
   "cell_type": "markdown",
   "id": "901d7cb7",
   "metadata": {},
   "source": [
    "Q3. Why is redirect() used in Flask?"
   ]
  },
  {
   "cell_type": "code",
   "execution_count": 3,
   "id": "a68bdc05",
   "metadata": {},
   "outputs": [],
   "source": [
    "\n",
    "# In Flask, the redirect() function is used to redirect the client to a different URL. \n",
    "# It's commonly used when a client makes a request to a Flask route, and the server wants to respond by redirecting the client to another route or URL.\n"
   ]
  },
  {
   "cell_type": "markdown",
   "id": "662e00e9",
   "metadata": {},
   "source": [
    "Q4. What are templates in Flask? Why is the render_template() function used?"
   ]
  },
  {
   "cell_type": "code",
   "execution_count": 4,
   "id": "b7bf914d",
   "metadata": {},
   "outputs": [],
   "source": [
    "# In Flask, templates are HTML files that contain placeholders for dynamic content. \n",
    "#They allow developers to create reusable and customizable views for web applications by separating the presentation logic (HTML markup) from the application logic (Python code). \n",
    "#Templates can include variables, control structures, and other dynamic elements that are rendered dynamically based on data provided by the serve\n"
   ]
  },
  {
   "cell_type": "markdown",
   "id": "7cf1fca0",
   "metadata": {},
   "source": [
    "Q5. Create a simple API. Use Postman to test it."
   ]
  },
  {
   "cell_type": "code",
   "execution_count": null,
   "id": "ee63cd68",
   "metadata": {},
   "outputs": [],
   "source": [
    "from flask import Flask, jsonify, request\n",
    "\n",
    "app = Flask(__name__)\n",
    "\n",
    "# Sample list of items\n",
    "items = []\n",
    "\n",
    "# Endpoint to get all items\n",
    "@app.route('/items', methods=['GET'])\n",
    "def get_items():\n",
    "    return jsonify(items)\n",
    "\n",
    "# Endpoint to add a new item\n",
    "@app.route('/items', methods=['POST'])\n",
    "def add_item():\n",
    "    data = request.get_json()\n",
    "    items.append(data)\n",
    "    return jsonify(data), 201\n",
    "\n",
    "# Endpoint to update an existing item\n",
    "@app.route('/items/<int:index>', methods=['PUT'])\n",
    "def update_item(index):\n",
    "    data = request.get_json()\n",
    "    if 0 <= index < len(items):\n",
    "        items[index] = data\n",
    "        return jsonify(data)\n",
    "    else:\n",
    "        return jsonify({'error': 'Index out of range'}), 404\n",
    "\n",
    "# Endpoint to delete an item\n",
    "@app.route('/items/<int:index>', methods=['DELETE'])\n",
    "def delete_item(index):\n",
    "    if 0 <= index < len(items):\n",
    "        deleted_item = items.pop(index)\n",
    "        return jsonify(deleted_item)\n",
    "    else:\n",
    "        return jsonify({'error': 'Index out of range'}), 404\n",
    "\n",
    "if __name__ == '__main__':\n",
    "    app.run(debug=True)\n"
   ]
  }
 ],
 "metadata": {
  "kernelspec": {
   "display_name": "Python 3 (ipykernel)",
   "language": "python",
   "name": "python3"
  },
  "language_info": {
   "codemirror_mode": {
    "name": "ipython",
    "version": 3
   },
   "file_extension": ".py",
   "mimetype": "text/x-python",
   "name": "python",
   "nbconvert_exporter": "python",
   "pygments_lexer": "ipython3",
   "version": "3.9.7"
  }
 },
 "nbformat": 4,
 "nbformat_minor": 5
}
