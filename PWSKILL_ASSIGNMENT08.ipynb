{
 "cells": [
  {
   "cell_type": "markdown",
   "id": "60658d5c",
   "metadata": {},
   "source": [
    "Q1. Wh\n",
    "at is\n",
    "an Exception in p\n",
    "\n",
    "thon? Write the differen,e etween Ex,eptions\n",
    "nd $\n",
    "nt\n",
    "x errors"
   ]
  },
  {
   "cell_type": "code",
   "execution_count": 1,
   "id": "a73b2160",
   "metadata": {},
   "outputs": [],
   "source": [
    "# In Python, an exception is an event that occurs during the execution of a program and disrupts the normal flow of the program's instructions.\n",
    "# When an exception occurs, Python raises an object known as an \"exception object,\" which contains information about the error, such as its type and context.\n",
    "# Exception handling allows you to gracefully handle these errors, preventing the program from crashing and providing mechanisms to recover or gracefully exit.\n",
    "\n",
    "#Syntax errors, on the other hand, occur when the Python interpreter encounters invalid syntax while parsing the code. Syntax errors prevent the program from being executed\n",
    "\n",
    "# Exceptions occur during the execution of the program when something unexpected happens, whereas syntax errors occur during the parsing (compilation) phase of the program due to invalid syntax.\n",
    "\n"
   ]
  },
  {
   "cell_type": "markdown",
   "id": "9701b0e2",
   "metadata": {},
   "source": [
    "Q2) What happens when an exception is not handlled? Explain with an example"
   ]
  },
  {
   "cell_type": "code",
   "execution_count": 2,
   "id": "3df02ea8",
   "metadata": {
    "collapsed": true
   },
   "outputs": [
    {
     "ename": "ZeroDivisionError",
     "evalue": "division by zero",
     "output_type": "error",
     "traceback": [
      "\u001b[1;31m---------------------------------------------------------------------------\u001b[0m",
      "\u001b[1;31mZeroDivisionError\u001b[0m                         Traceback (most recent call last)",
      "\u001b[1;32m~\\AppData\\Local\\Temp/ipykernel_2560/2218063396.py\u001b[0m in \u001b[0;36m<module>\u001b[1;34m\u001b[0m\n\u001b[0;32m      7\u001b[0m \u001b[1;33m\u001b[0m\u001b[0m\n\u001b[0;32m      8\u001b[0m \u001b[1;31m# This function will raise a ZeroDivisionError if y is 0\u001b[0m\u001b[1;33m\u001b[0m\u001b[1;33m\u001b[0m\u001b[0m\n\u001b[1;32m----> 9\u001b[1;33m \u001b[0mresult\u001b[0m \u001b[1;33m=\u001b[0m \u001b[0mdivide\u001b[0m\u001b[1;33m(\u001b[0m\u001b[1;36m10\u001b[0m\u001b[1;33m,\u001b[0m \u001b[1;36m0\u001b[0m\u001b[1;33m)\u001b[0m\u001b[1;33m\u001b[0m\u001b[1;33m\u001b[0m\u001b[0m\n\u001b[0m\u001b[0;32m     10\u001b[0m \u001b[1;33m\u001b[0m\u001b[0m\n\u001b[0;32m     11\u001b[0m \u001b[1;31m# The program will terminate abruptly if the exception is not handled\u001b[0m\u001b[1;33m\u001b[0m\u001b[1;33m\u001b[0m\u001b[0m\n",
      "\u001b[1;32m~\\AppData\\Local\\Temp/ipykernel_2560/2218063396.py\u001b[0m in \u001b[0;36mdivide\u001b[1;34m(x, y)\u001b[0m\n\u001b[0;32m      4\u001b[0m \u001b[1;31m# Example of an unhandled exception\u001b[0m\u001b[1;33m\u001b[0m\u001b[1;33m\u001b[0m\u001b[0m\n\u001b[0;32m      5\u001b[0m \u001b[1;32mdef\u001b[0m \u001b[0mdivide\u001b[0m\u001b[1;33m(\u001b[0m\u001b[0mx\u001b[0m\u001b[1;33m,\u001b[0m \u001b[0my\u001b[0m\u001b[1;33m)\u001b[0m\u001b[1;33m:\u001b[0m\u001b[1;33m\u001b[0m\u001b[1;33m\u001b[0m\u001b[0m\n\u001b[1;32m----> 6\u001b[1;33m     \u001b[1;32mreturn\u001b[0m \u001b[0mx\u001b[0m \u001b[1;33m/\u001b[0m \u001b[0my\u001b[0m\u001b[1;33m\u001b[0m\u001b[1;33m\u001b[0m\u001b[0m\n\u001b[0m\u001b[0;32m      7\u001b[0m \u001b[1;33m\u001b[0m\u001b[0m\n\u001b[0;32m      8\u001b[0m \u001b[1;31m# This function will raise a ZeroDivisionError if y is 0\u001b[0m\u001b[1;33m\u001b[0m\u001b[1;33m\u001b[0m\u001b[0m\n",
      "\u001b[1;31mZeroDivisionError\u001b[0m: division by zero"
     ]
    }
   ],
   "source": [
    "# When an exception is not handled in Python, it propagates up the call stack until it reaches the top level of the program. \n",
    "# If no exception handling mechanism is in place to catch and handle the exception, the program terminates abruptly, and Python prints a traceback message to the console, indicating the type of exception that occurred and the line of code where it occurred.\n",
    "\n",
    "# Example of an unhandled exception\n",
    "def divide(x, y):\n",
    "    return x / y\n",
    "\n",
    "# This function will raise a ZeroDivisionError if y is 0\n",
    "result = divide(10, 0)\n",
    "\n",
    "# The program will terminate abruptly if the exception is not handled\n",
    "print(\"Result:\", result)  # This line will not be executed\n"
   ]
  },
  {
   "cell_type": "markdown",
   "id": "ec8415c5",
   "metadata": {},
   "source": [
    "Q3) Which python statements are used to catch and handle exceptions? explain with an example"
   ]
  },
  {
   "cell_type": "code",
   "execution_count": 3,
   "id": "d62752ad",
   "metadata": {
    "collapsed": true
   },
   "outputs": [
    {
     "ename": "IndentationError",
     "evalue": "expected an indented block (Temp/ipykernel_2560/27440953.py, line 7)",
     "output_type": "error",
     "traceback": [
      "\u001b[1;36m  File \u001b[1;32m\"C:\\Users\\vebhao\\AppData\\Local\\Temp/ipykernel_2560/27440953.py\"\u001b[1;36m, line \u001b[1;32m7\u001b[0m\n\u001b[1;33m    except ExceptionType:\u001b[0m\n\u001b[1;37m    ^\u001b[0m\n\u001b[1;31mIndentationError\u001b[0m\u001b[1;31m:\u001b[0m expected an indented block\n"
     ]
    }
   ],
   "source": [
    "# In Python, the try and except statements are used together to catch and handle exceptions. \n",
    "# The try block encloses the code that might raise an exception, and the except block specifies how to handle the exception if it occurs.\n",
    "\n",
    "try:\n",
    "    # Code that might raise an exception\n",
    "    # ...\n",
    "except ExceptionType:\n",
    "    # Code to handle the exception\n",
    "    # ...\n"
   ]
  },
  {
   "cell_type": "markdown",
   "id": "460975ec",
   "metadata": {},
   "source": [
    " Q4. Explin with an exmple:\n",
    "try and else\n",
    "finally \n",
    "raise"
   ]
  },
  {
   "cell_type": "code",
   "execution_count": null,
   "id": "17d67778",
   "metadata": {},
   "outputs": [],
   "source": [
    "\"\"\"try, except, and else:\n",
    "The try block is used to enclose the code that may raise an exception.\n",
    "The except block is executed if an exception occurs within the try block. It specifies how to handle the exception.\n",
    "The else block is optional and is executed if no exception occurs in the try block. \n",
    "It contains code that should only run if the try block does not raise an exception.\n",
    "\"\"\"\n",
    "\n",
    "# finally:\n",
    "# The finally block is always executed, regardless of whether an exception occurs or not.\n",
    "# It is commonly used for cleanup actions, such as closing files or releasing resources.\n",
    "\n",
    "\n",
    "#raise:\n",
    "# The raise statement is used to raise exceptions explicitly in Python.\n",
    "# It allows you to create custom exceptions or re-raise existing ones.\n",
    "\n"
   ]
  },
  {
   "cell_type": "markdown",
   "id": "6c821192",
   "metadata": {},
   "source": [
    "Q5) What\n",
    "are Custom Exceptions in python?  Why do we need Custom Exceptions? Explain with example"
   ]
  },
  {
   "cell_type": "code",
   "execution_count": 4,
   "id": "2b6a2c50",
   "metadata": {},
   "outputs": [],
   "source": [
    "# Custom exceptions in Python are user-defined exceptions that extend the base Exception class or its subclasses. \n",
    "\n",
    "# Here's why we need custom exceptions:\n",
    "# 1) Expressiveness\n",
    "# 2) Readability\n",
    "# 3) Modularity\n",
    "# 4) Consistency\n"
   ]
  },
  {
   "cell_type": "markdown",
   "id": "229f91af",
   "metadata": {},
   "source": [
    "Q6) Create a custom exception class. use this class to handle an exception."
   ]
  },
  {
   "cell_type": "code",
   "execution_count": 5,
   "id": "3e02f02d",
   "metadata": {},
   "outputs": [
    {
     "name": "stdout",
     "output_type": "stream",
     "text": [
      "Custom Error: Value cannot be negative\n"
     ]
    }
   ],
   "source": [
    "# Define a custom exception class\n",
    "class CustomError(Exception):\n",
    "    def __init__(self, message):\n",
    "        super().__init__(message)\n",
    "\n",
    "# Function to perform a risky operation\n",
    "def risky_operation(value):\n",
    "    if value < 0:\n",
    "        raise CustomError(\"Value cannot be negative\")\n",
    "\n",
    "# Test the risky_operation function\n",
    "try:\n",
    "    risky_operation(10)   # No exception raised\n",
    "    risky_operation(-5)   # Raises CustomError\n",
    "except CustomError as e:\n",
    "    print(\"Custom Error:\", e)  # Output: Custom Error: Value cannot be negative\n"
   ]
  },
  {
   "cell_type": "code",
   "execution_count": null,
   "id": "c395a1e2",
   "metadata": {},
   "outputs": [],
   "source": []
  }
 ],
 "metadata": {
  "kernelspec": {
   "display_name": "Python 3 (ipykernel)",
   "language": "python",
   "name": "python3"
  },
  "language_info": {
   "codemirror_mode": {
    "name": "ipython",
    "version": 3
   },
   "file_extension": ".py",
   "mimetype": "text/x-python",
   "name": "python",
   "nbconvert_exporter": "python",
   "pygments_lexer": "ipython3",
   "version": "3.9.7"
  }
 },
 "nbformat": 4,
 "nbformat_minor": 5
}
