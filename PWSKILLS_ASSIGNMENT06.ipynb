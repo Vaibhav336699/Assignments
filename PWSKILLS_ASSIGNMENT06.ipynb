{
 "cells": [
  {
   "cell_type": "markdown",
   "id": "4c774232",
   "metadata": {},
   "source": [
    "Q1) Class and Object with respect to Object-Oriented Programming. Give"
   ]
  },
  {
   "cell_type": "code",
   "execution_count": 1,
   "id": "d83dd71e",
   "metadata": {},
   "outputs": [
    {
     "name": "stdout",
     "output_type": "stream",
     "text": [
      "<class '__main__.Car'>\n"
     ]
    }
   ],
   "source": [
    "\n",
    "# In object-oriented programming (OOP), a class is a blueprint for creating objects (instances). \n",
    "# It defines the attributes (data) and methods (functions) that all objects of that class will have.\n",
    "\n",
    "class Car:\n",
    "    # Constructor method to initialize attributes\n",
    "    def __init__(self, make, model, year):\n",
    "        self.make = make\n",
    "        self.model = model\n",
    "        self.year = year\n",
    "        \n",
    "# Create an instance of Car class\n",
    "my_car = Car(\"Toyota\", \"Camry\", 2020)  \n",
    "print(Car)"
   ]
  },
  {
   "cell_type": "markdown",
   "id": "194dd47e",
   "metadata": {},
   "source": [
    "\n",
    "Q2. Name the four pillars of OOPs"
   ]
  },
  {
   "cell_type": "code",
   "execution_count": 2,
   "id": "70abb843",
   "metadata": {},
   "outputs": [],
   "source": [
    "#Encapsulation\n",
    "#Abstraction\n",
    "#Inheritance\n",
    "#Polymorphism"
   ]
  },
  {
   "cell_type": "markdown",
   "id": "12c1be8f",
   "metadata": {},
   "source": [
    "Q3) Explain why the  __init__() function is used. Give a suitable example."
   ]
  },
  {
   "cell_type": "code",
   "execution_count": 3,
   "id": "39c09975",
   "metadata": {},
   "outputs": [
    {
     "name": "stdout",
     "output_type": "stream",
     "text": [
      "Name: Alice, Age: 30\n",
      "Name: Bob, Age: 25\n"
     ]
    }
   ],
   "source": [
    "# In Python, the __init__() function is a special method (also known as a constructor) that is automatically called when a new instance of a class is created. \n",
    "# It is used to initialize the attributes (data) of the object to their initial values\n",
    "class Person:\n",
    "    def __init__(self, name, age):\n",
    "        self.name = name\n",
    "        self.age = age\n",
    "\n",
    "    def describe(self):\n",
    "        return f\"Name: {self.name}, Age: {self.age}\"\n",
    "\n",
    "# Create instances of Person class\n",
    "person1 = Person(\"Alice\", 30)\n",
    "person2 = Person(\"Bob\", 25)\n",
    "\n",
    "# Access attributes and call method of the objects\n",
    "print(person1.describe())  # Output: Name: Alice, Age: 30\n",
    "print(person2.describe())  # Output: Name: Bob, Age: 25\n",
    "\n"
   ]
  },
  {
   "cell_type": "markdown",
   "id": "af828d26",
   "metadata": {},
   "source": [
    "\n",
    "Q4. Why self is used in OOPs"
   ]
  },
  {
   "cell_type": "code",
   "execution_count": 4,
   "id": "3ecb42ec",
   "metadata": {},
   "outputs": [],
   "source": [
    "\n",
    "# In object-oriented programming (OOP), self is a special parameter that refers to the current instance of the class\n",
    "# It is used within instance methods to access and modify the attributes (data) and methods (functions) of the object itself."
   ]
  },
  {
   "cell_type": "markdown",
   "id": "949a163d",
   "metadata": {},
   "source": [
    "Q5. What is inheritance? Give an example for each type of inheritance."
   ]
  },
  {
   "cell_type": "code",
   "execution_count": 5,
   "id": "e44af727",
   "metadata": {},
   "outputs": [],
   "source": [
    "\n",
    "#Inheritance is a fundamental concept in object-oriented programming (OOP) where a new class (subclass) is created by deriving attributes and methods from an existing class (superclass).\n",
    "#There are several types of inheritance, including:\n",
    "\n",
    "#Single Inheritance: In single inheritance, a subclass inherits from only one superclass.\n",
    "\n",
    "#Multiple Inheritance: In multiple inheritance, a subclass inherits from more than one superclass.\n",
    "\n",
    "#Multilevel Inheritance: In multilevel inheritance, a subclass inherits from another subclass, forming a hierarchy."
   ]
  },
  {
   "cell_type": "code",
   "execution_count": null,
   "id": "d26f8ce7",
   "metadata": {},
   "outputs": [],
   "source": []
  }
 ],
 "metadata": {
  "kernelspec": {
   "display_name": "Python 3 (ipykernel)",
   "language": "python",
   "name": "python3"
  },
  "language_info": {
   "codemirror_mode": {
    "name": "ipython",
    "version": 3
   },
   "file_extension": ".py",
   "mimetype": "text/x-python",
   "name": "python",
   "nbconvert_exporter": "python",
   "pygments_lexer": "ipython3",
   "version": "3.9.7"
  }
 },
 "nbformat": 4,
 "nbformat_minor": 5
}
